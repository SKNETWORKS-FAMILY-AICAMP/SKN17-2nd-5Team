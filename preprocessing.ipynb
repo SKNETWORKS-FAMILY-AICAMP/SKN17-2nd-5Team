{
 "cells": [
  {
   "cell_type": "markdown",
   "id": "a8296c7c",
   "metadata": {},
   "source": [
    "# Preprocessing"
   ]
  },
  {
   "cell_type": "code",
   "execution_count": 107,
   "id": "dd84a485",
   "metadata": {},
   "outputs": [
    {
     "data": {
      "text/html": [
       "<div>\n",
       "<style scoped>\n",
       "    .dataframe tbody tr th:only-of-type {\n",
       "        vertical-align: middle;\n",
       "    }\n",
       "\n",
       "    .dataframe tbody tr th {\n",
       "        vertical-align: top;\n",
       "    }\n",
       "\n",
       "    .dataframe thead th {\n",
       "        text-align: right;\n",
       "    }\n",
       "</style>\n",
       "<table border=\"1\" class=\"dataframe\">\n",
       "  <thead>\n",
       "    <tr style=\"text-align: right;\">\n",
       "      <th></th>\n",
       "      <th>SubscriptionID</th>\n",
       "      <th>HH Income</th>\n",
       "      <th>Home Ownership</th>\n",
       "      <th>Ethnicity</th>\n",
       "      <th>dummy for Children</th>\n",
       "      <th>Year Of Residence</th>\n",
       "      <th>Age range</th>\n",
       "      <th>Language</th>\n",
       "      <th>Address</th>\n",
       "      <th>State</th>\n",
       "      <th>City</th>\n",
       "      <th>County</th>\n",
       "      <th>Zip Code</th>\n",
       "      <th>weekly fee</th>\n",
       "      <th>Deliveryperiod</th>\n",
       "      <th>Nielsen Prizm</th>\n",
       "      <th>reward program</th>\n",
       "      <th>Source Channel</th>\n",
       "      <th>Subscriber</th>\n",
       "    </tr>\n",
       "  </thead>\n",
       "  <tbody>\n",
       "    <tr>\n",
       "      <th>0</th>\n",
       "      <td>180590686</td>\n",
       "      <td>$  30,000 - $39,999</td>\n",
       "      <td>RENTER</td>\n",
       "      <td>German</td>\n",
       "      <td>N</td>\n",
       "      <td>1</td>\n",
       "      <td>25-29</td>\n",
       "      <td>German</td>\n",
       "      <td>1 3RD PL UNIT 703</td>\n",
       "      <td>CA</td>\n",
       "      <td>LONG BEACH</td>\n",
       "      <td>LOS ANGELES</td>\n",
       "      <td>90802</td>\n",
       "      <td>$7.00 - $7.99</td>\n",
       "      <td>7Day</td>\n",
       "      <td>FM</td>\n",
       "      <td>0</td>\n",
       "      <td>CircAdm</td>\n",
       "      <td>NO</td>\n",
       "    </tr>\n",
       "    <tr>\n",
       "      <th>1</th>\n",
       "      <td>181401653</td>\n",
       "      <td>$500,000 Plus</td>\n",
       "      <td>OWNER</td>\n",
       "      <td>unknown</td>\n",
       "      <td>Y</td>\n",
       "      <td>14</td>\n",
       "      <td>50-54</td>\n",
       "      <td>NaN</td>\n",
       "      <td>1 AVIGNON</td>\n",
       "      <td>CA</td>\n",
       "      <td>NEWPORT COAST</td>\n",
       "      <td>ORANGE</td>\n",
       "      <td>92657</td>\n",
       "      <td>$0.01 - $0.50</td>\n",
       "      <td>SunOnly</td>\n",
       "      <td>MW</td>\n",
       "      <td>0</td>\n",
       "      <td>Partner</td>\n",
       "      <td>YES</td>\n",
       "    </tr>\n",
       "    <tr>\n",
       "      <th>2</th>\n",
       "      <td>180374685</td>\n",
       "      <td>$100,000 - $124,999</td>\n",
       "      <td>OWNER</td>\n",
       "      <td>Italian</td>\n",
       "      <td>Y</td>\n",
       "      <td>7</td>\n",
       "      <td>45-49</td>\n",
       "      <td>English</td>\n",
       "      <td>1 BLACKSWAN</td>\n",
       "      <td>CA</td>\n",
       "      <td>IRVINE</td>\n",
       "      <td>ORANGE</td>\n",
       "      <td>92604</td>\n",
       "      <td>$0.01 - $0.50</td>\n",
       "      <td>SunOnly</td>\n",
       "      <td>MW</td>\n",
       "      <td>0</td>\n",
       "      <td>Partner</td>\n",
       "      <td>YES</td>\n",
       "    </tr>\n",
       "    <tr>\n",
       "      <th>3</th>\n",
       "      <td>180703483</td>\n",
       "      <td>$200,000 - $249,999</td>\n",
       "      <td>OWNER</td>\n",
       "      <td>English</td>\n",
       "      <td>N</td>\n",
       "      <td>23</td>\n",
       "      <td>55-59</td>\n",
       "      <td>English</td>\n",
       "      <td>1 BLUE HORIZON</td>\n",
       "      <td>CA</td>\n",
       "      <td>LAGUNA NIGUEL</td>\n",
       "      <td>ORANGE</td>\n",
       "      <td>92677</td>\n",
       "      <td>$1.00 - $1.99</td>\n",
       "      <td>SunOnly</td>\n",
       "      <td>MW</td>\n",
       "      <td>1</td>\n",
       "      <td>Internet</td>\n",
       "      <td>NO</td>\n",
       "    </tr>\n",
       "    <tr>\n",
       "      <th>4</th>\n",
       "      <td>180358906</td>\n",
       "      <td>$  50,000 - $59,999</td>\n",
       "      <td>OWNER</td>\n",
       "      <td>Italian</td>\n",
       "      <td>N</td>\n",
       "      <td>23</td>\n",
       "      <td>60-64</td>\n",
       "      <td>English</td>\n",
       "      <td>1 BRISA DEL LAGO</td>\n",
       "      <td>CA</td>\n",
       "      <td>RANCHO SANTA MARGARITA</td>\n",
       "      <td>ORANGE</td>\n",
       "      <td>92688</td>\n",
       "      <td>$8.00 - $8.99</td>\n",
       "      <td>Thu-Sun</td>\n",
       "      <td>MM</td>\n",
       "      <td>0</td>\n",
       "      <td>Crew</td>\n",
       "      <td>YES</td>\n",
       "    </tr>\n",
       "  </tbody>\n",
       "</table>\n",
       "</div>"
      ],
      "text/plain": [
       "   SubscriptionID            HH Income Home Ownership Ethnicity  \\\n",
       "0       180590686  $  30,000 - $39,999         RENTER    German   \n",
       "1       181401653        $500,000 Plus          OWNER   unknown   \n",
       "2       180374685  $100,000 - $124,999          OWNER   Italian   \n",
       "3       180703483  $200,000 - $249,999          OWNER   English   \n",
       "4       180358906  $  50,000 - $59,999          OWNER   Italian   \n",
       "\n",
       "  dummy for Children  Year Of Residence Age range Language            Address  \\\n",
       "0                  N                  1     25-29   German  1 3RD PL UNIT 703   \n",
       "1                  Y                 14     50-54      NaN          1 AVIGNON   \n",
       "2                  Y                  7     45-49  English        1 BLACKSWAN   \n",
       "3                  N                 23     55-59  English     1 BLUE HORIZON   \n",
       "4                  N                 23     60-64  English   1 BRISA DEL LAGO   \n",
       "\n",
       "  State                    City       County  Zip Code     weekly fee  \\\n",
       "0    CA              LONG BEACH  LOS ANGELES     90802  $7.00 - $7.99   \n",
       "1    CA           NEWPORT COAST       ORANGE     92657  $0.01 - $0.50   \n",
       "2    CA                  IRVINE       ORANGE     92604  $0.01 - $0.50   \n",
       "3    CA           LAGUNA NIGUEL       ORANGE     92677  $1.00 - $1.99   \n",
       "4    CA  RANCHO SANTA MARGARITA       ORANGE     92688  $8.00 - $8.99   \n",
       "\n",
       "  Deliveryperiod Nielsen Prizm  reward program Source Channel Subscriber  \n",
       "0           7Day            FM               0        CircAdm         NO  \n",
       "1        SunOnly            MW               0        Partner        YES  \n",
       "2        SunOnly            MW               0        Partner        YES  \n",
       "3        SunOnly            MW               1       Internet         NO  \n",
       "4        Thu-Sun            MM               0           Crew        YES  "
      ]
     },
     "metadata": {},
     "output_type": "display_data"
    },
    {
     "name": "stdout",
     "output_type": "stream",
     "text": [
      "<class 'pandas.core.frame.DataFrame'>\n",
      "RangeIndex: 15855 entries, 0 to 15854\n",
      "Data columns (total 19 columns):\n",
      " #   Column              Non-Null Count  Dtype \n",
      "---  ------              --------------  ----- \n",
      " 0   SubscriptionID      15855 non-null  int64 \n",
      " 1   HH Income           15855 non-null  object\n",
      " 2   Home Ownership      15855 non-null  object\n",
      " 3   Ethnicity           15855 non-null  object\n",
      " 4   dummy for Children  15855 non-null  object\n",
      " 5   Year Of Residence   15855 non-null  int64 \n",
      " 6   Age range           15747 non-null  object\n",
      " 7   Language            14848 non-null  object\n",
      " 8   Address             15855 non-null  object\n",
      " 9   State               15855 non-null  object\n",
      " 10  City                15855 non-null  object\n",
      " 11  County              15855 non-null  object\n",
      " 12  Zip Code            15855 non-null  int64 \n",
      " 13  weekly fee          15669 non-null  object\n",
      " 14  Deliveryperiod      15855 non-null  object\n",
      " 15  Nielsen Prizm       15726 non-null  object\n",
      " 16  reward program      15855 non-null  int64 \n",
      " 17  Source Channel      15855 non-null  object\n",
      " 18  Subscriber          15855 non-null  object\n",
      "dtypes: int64(4), object(15)\n",
      "memory usage: 2.3+ MB\n"
     ]
    },
    {
     "data": {
      "text/plain": [
       "None"
      ]
     },
     "metadata": {},
     "output_type": "display_data"
    }
   ],
   "source": [
    "import numpy as np\n",
    "import pandas as pd\n",
    "import matplotlib.pyplot as plt\n",
    "import seaborn as sns\n",
    "import re\n",
    "\n",
    "newspaper_df = pd.read_excel('data/NewspaperChurn_new_version.xlsx')\n",
    "display(newspaper_df.head())\n",
    "display(newspaper_df.info())"
   ]
  },
  {
   "cell_type": "code",
   "execution_count": 108,
   "id": "400156d7",
   "metadata": {},
   "outputs": [
    {
     "name": "stdout",
     "output_type": "stream",
     "text": [
      "['SubscriptionID', 'Year Of Residence', 'Zip Code', 'reward program']\n",
      "['HH Income', 'Home Ownership', 'Ethnicity', 'dummy for Children', 'Age range', 'Language', 'Address', 'State', 'City', 'County', 'weekly fee', 'Deliveryperiod', 'Nielsen Prizm', 'Source Channel', 'Subscriber']\n"
     ]
    }
   ],
   "source": [
    "# 수치형, 범주형 데이터 컬럼 조회\n",
    "numerical = newspaper_df.select_dtypes(include=[\"int64\"]).columns.tolist()\n",
    "categorical = newspaper_df.select_dtypes(include=[\"object\"]).columns.tolist()\n",
    "print(numerical)\n",
    "print(categorical)"
   ]
  },
  {
   "cell_type": "markdown",
   "id": "7c35da8f",
   "metadata": {},
   "source": [
    "## 0. Target 값 (Subscriber) binary 변환 (is_churned이라는 새로운 target 컬럼 생성) \n",
    "- 'YES', 'NO' => **is_churned**이 1 (이탈) 혹은 0 (이탈 X)"
   ]
  },
  {
   "cell_type": "code",
   "execution_count": 109,
   "id": "7308341e",
   "metadata": {},
   "outputs": [],
   "source": [
    "# 예시: Subscirber==0  =  is_churned==1 \n",
    "newspaper_df['is_churned'] = newspaper_df['Subscriber'].apply(lambda x: 1 if x == 'NO' else 0)"
   ]
  },
  {
   "cell_type": "markdown",
   "id": "428e2ef4",
   "metadata": {},
   "source": [
    "## 1. 결측치 처리"
   ]
  },
  {
   "cell_type": "code",
   "execution_count": 110,
   "id": "cf1a2639",
   "metadata": {},
   "outputs": [
    {
     "data": {
      "text/plain": [
       "SubscriptionID           0\n",
       "HH Income                0\n",
       "Home Ownership           0\n",
       "Ethnicity                0\n",
       "dummy for Children       0\n",
       "Year Of Residence        0\n",
       "Age range              108\n",
       "Language              1007\n",
       "Address                  0\n",
       "State                    0\n",
       "City                     0\n",
       "County                   0\n",
       "Zip Code                 0\n",
       "weekly fee             186\n",
       "Deliveryperiod           0\n",
       "Nielsen Prizm          129\n",
       "reward program           0\n",
       "Source Channel           0\n",
       "Subscriber               0\n",
       "is_churned               0\n",
       "dtype: int64"
      ]
     },
     "execution_count": 110,
     "metadata": {},
     "output_type": "execute_result"
    }
   ],
   "source": [
    "newspaper_df.isna().sum()"
   ]
  },
  {
   "cell_type": "markdown",
   "id": "17061a80",
   "metadata": {},
   "source": [
    "### 1.1. 나이구간 결측치 처리"
   ]
  },
  {
   "cell_type": "code",
   "execution_count": 111,
   "id": "4f9cb387",
   "metadata": {},
   "outputs": [],
   "source": [
    "# 'Age range'가 null인 row 제거\n",
    "newspaper_df = newspaper_df.dropna(subset=['Age range'])"
   ]
  },
  {
   "cell_type": "markdown",
   "id": "6ae1db59",
   "metadata": {},
   "source": [
    "### 1.2 Language 결측치 처리\n",
    "- 결측이 약 6.3%가 되기 때문에 무작정 삭제 하는 것이 옳바르지는 않음\n",
    "- **언어가 Unknown인 부류와 아닌 부류의 이탈률에 의미 있는 차이가 없음**\n",
    "- Language는 보조적 분류 변수로서 사용될 가능성이 있음\n",
    "- language 보다 더 중요한 특성들의 행까지 삭제되는 것을 방지할 필요가 있음\n",
    "  \n",
    "**따라서 현재 분석에선 \"Unknown\"으로 처리하는 방식이 더 안전하고 실용적**"
   ]
  },
  {
   "cell_type": "code",
   "execution_count": 112,
   "id": "524457f6",
   "metadata": {},
   "outputs": [
    {
     "data": {
      "text/plain": [
       "np.int64(1000)"
      ]
     },
     "execution_count": 112,
     "metadata": {},
     "output_type": "execute_result"
    }
   ],
   "source": [
    "newspaper_df['Language'].isna().sum()"
   ]
  },
  {
   "cell_type": "code",
   "execution_count": 113,
   "id": "c25630aa",
   "metadata": {},
   "outputs": [
    {
     "name": "stdout",
     "output_type": "stream",
     "text": [
      "이탈률 (Language = Unknown): 0.8050\n",
      "이탈률 (Language ≠ Unknown): 0.8083\n"
     ]
    }
   ],
   "source": [
    "newspaper_df['Language'].isna().sum()\n",
    "## 결측값을 Unknown으로 부여했을 때 이탈율 비교\n",
    "\n",
    "# Language 컬럼의 결측값을 'Unknown'으로 대체\n",
    "newspaper_df['Language'] = newspaper_df['Language'].fillna('Unknown')\n",
    "\n",
    "\n",
    "# 언어가 Unknown인 경우와 아닌 경우로 나누어 이탈률 비교\n",
    "churn_unknown = newspaper_df[newspaper_df['Language'] == 'Unknown']['is_churned'].mean()\n",
    "churn_known = newspaper_df[newspaper_df['Language'] != 'Unknown']['is_churned'].mean()\n",
    "\n",
    "print(f\"이탈률 (Language = Unknown): {churn_unknown:.4f}\")\n",
    "print(f\"이탈률 (Language ≠ Unknown): {churn_known:.4f}\")"
   ]
  },
  {
   "cell_type": "markdown",
   "id": "5fe61fb6",
   "metadata": {},
   "source": [
    "### 1.3. Weekley Fee 결측치 처리\n",
    "- 결측률: 약 1.8%\n",
    "- **결측 전원이 이탈한 상태로 기록 => '결측' 자체가 중요한 신호일 수 있음 = 중앙값으로 대체해도 안되고 그냥 삭제해도 안 됨**"
   ]
  },
  {
   "cell_type": "code",
   "execution_count": 114,
   "id": "8efb3ac4",
   "metadata": {},
   "outputs": [
    {
     "data": {
      "text/plain": [
       "array(['$7.00 - $7.99', '$0.01 - $0.50', '$1.00 - $1.99', '$8.00 - $8.99',\n",
       "       '$0 - $0.01', '$2.00 - $2.99', '$9.00 - $9.99', '$4.00 - $4.99',\n",
       "       '$0.51 - $0.99', '$3.00 - $3.99', '$5.00 - $5.99', '$6.00 - $6.99',\n",
       "       '$10.00 - $10.99', nan, '$0'], dtype=object)"
      ]
     },
     "execution_count": 114,
     "metadata": {},
     "output_type": "execute_result"
    }
   ],
   "source": [
    "newspaper_df['weekly fee'].unique()"
   ]
  },
  {
   "cell_type": "code",
   "execution_count": 115,
   "id": "689e2e0a",
   "metadata": {},
   "outputs": [
    {
     "name": "stdout",
     "output_type": "stream",
     "text": [
      "이탈률 (요금 결측): 1.0000\n",
      "이탈률 (요금 있음): 0.8058\n"
     ]
    }
   ],
   "source": [
    "# 결측 vs 비결측 이탈률 확인\n",
    "isnull_group = newspaper_df[newspaper_df['weekly fee'].isnull()]\n",
    "notnull_group = newspaper_df[newspaper_df['weekly fee'].notnull()]\n",
    "\n",
    "churn_null = isnull_group['is_churned'].mean()\n",
    "churn_notnull = notnull_group['is_churned'].mean()\n",
    "\n",
    "print(f\"이탈률 (요금 결측): {churn_null:.4f}\")\n",
    "print(f\"이탈률 (요금 있음): {churn_notnull:.4f}\")"
   ]
  },
  {
   "cell_type": "markdown",
   "id": "878a9925",
   "metadata": {},
   "source": [
    "- 대안 1: '결측여부'를 나타내는 'weekly_fee_missing'를 생성\n",
    "- 대안 2: 결국 결측치를 그대로 둘 수 없기 때문에, 모든 결측치가 이탈이므로 결측치에 해당하는 weekly fee 깂을 'Not Paying' 범주 추가 할당"
   ]
  },
  {
   "cell_type": "code",
   "execution_count": 116,
   "id": "9c71f7f5",
   "metadata": {},
   "outputs": [],
   "source": [
    "# weekly fee 결측 여부를 나타내는 새로운 컬럼 생성 (1 = 결측, 0 = 비결측)\n",
    "newspaper_df['weekly fee'] = newspaper_df['weekly fee'].fillna('Not Paying')\n",
    "# newspaper_df['weekly_fee_missing'] = newspaper_df['weekly fee'].isnull().astype(int)"
   ]
  },
  {
   "cell_type": "markdown",
   "id": "641edf0c",
   "metadata": {},
   "source": [
    "### 1.4. Nielsen Prizm 전처리 (우선 drop 채택, 추가적인 고려 필요)\n",
    "**Nielsen Prizm**: 소비자의 인구통계학적 특성과 라이프스타일에 따라 고객을 여러 세그먼트로 분류하는 코드 기반 마케팅 세분화 시스템 (연령, 성별, 가족 구성 또는 경제 활동 상태 등을 요약적으로 표현)이라고 추정 => **이 특성이 나이와 소득을 반영한다면 어떻게 처리할 지 고민을 해봐야 함**\n",
    "\n",
    "- 결측치가 0.8% 정도 밖에 차지 안하므로, null 값 row는 제거 "
   ]
  },
  {
   "cell_type": "code",
   "execution_count": 117,
   "id": "393879a7",
   "metadata": {},
   "outputs": [
    {
     "data": {
      "text/plain": [
       "array(['FM', 'MW', 'MM', 'FW', 'YW', 'YM', nan, 'ME', 'YE', 'FE'],\n",
       "      dtype=object)"
      ]
     },
     "execution_count": 117,
     "metadata": {},
     "output_type": "execute_result"
    }
   ],
   "source": [
    "# 유니크 값 확인\n",
    "newspaper_df['Nielsen Prizm'].unique()"
   ]
  },
  {
   "cell_type": "code",
   "execution_count": 118,
   "id": "3a4ca9bc",
   "metadata": {},
   "outputs": [],
   "source": [
    "newspaper_df = newspaper_df.dropna(subset=['Nielsen Prizm'])"
   ]
  },
  {
   "cell_type": "markdown",
   "id": "34c3ecb5",
   "metadata": {},
   "source": [
    "## 2. Unknown 범주 데이터 처리\n",
    "- 범주형 데이터 중 unknown 범주를 가지는 컬럼 조회"
   ]
  },
  {
   "cell_type": "code",
   "execution_count": 119,
   "id": "018a1481",
   "metadata": {},
   "outputs": [
    {
     "name": "stdout",
     "output_type": "stream",
     "text": [
      "Ethnicity: ['German' 'unknown' 'Italian' 'English' 'Scottish (Scotch)' 'Hispanic'\n",
      " 'Chinese' 'Irish' 'Swedish' 'Filipino (Philippine)' 'Jewish' 'Arab'\n",
      " 'Japanese' 'Indian' 'Vietnamese' 'Persian' 'French' 'Korean' 'Turkish'\n",
      " 'Norwegian' 'Armenian' 'Polish' 'Portuguese' 'Dutch' 'Welsh' 'Belgian'\n",
      " 'Byelorussian (Belarusian)' 'Czech' 'Thai' 'Ukrainian' 'African (other)'\n",
      " 'Danish' 'Native American (American Indian)' 'Zimbabwean' 'Hungarian'\n",
      " 'Russian' 'Austrian' 'Pakistani' 'Greek' 'Khmer (Kampuchean, Cambodian)'\n",
      " 'Lithuanian' 'Romanian' 'African American 95%+' 'Egyptian' 'Finnish'\n",
      " 'Ethiopian' 'multi-ethnic' 'Slovakian (Slovak)' 'Serbian' 'Swiss'\n",
      " 'Laotian' 'Ugandan' 'Croatian' 'Ruandan (Rwandan)' 'Malawian'\n",
      " 'Indonesian' 'Angolan' 'Latvian' 'Iraqi' 'Hawaiian' 'Syrian' 'Albanian'\n",
      " 'Ghanaian' 'Slovenian (Slovene)' 'Kenyan' 'Myanmar (Burma)' 'Bulgarian'\n",
      " 'Bhutanese' 'Swaziland' 'Nigerian' 'Luxembourgian' 'Estonian'\n",
      " 'Zairian (Democratic Republic of the Con']\n",
      "Language: ['German' 'Unknown' 'English' 'Italian' 'Chinese' 'Spanish' 'Vietnamese'\n",
      " 'Farsi (Persian)' 'Japanese' 'Turkish' 'Polish' 'Russian' 'Portuguese'\n",
      " 'Hebrew' 'Hindi' 'Arabic' 'Korean' 'Urdu' 'Czech' 'Romanian' 'Thai'\n",
      " 'Khmer (Cambodian)' 'Danish' 'Amharic' 'Laotian (Lao)' 'Swedish'\n",
      " 'Tagalog' 'French' 'Armenian' 'Norwegian' 'Hungarian' 'Finnish' 'Ga'\n",
      " 'Slovenian' 'Dutch' 'Serbo-Croatian' 'Greek' 'Latvian (Lettish)']\n"
     ]
    }
   ],
   "source": [
    "# 범주형 데이터 중 unknown 범주를 가지는 컬럼 조회\n",
    "\n",
    "for col in categorical:\n",
    "    if newspaper_df[col].astype(str).str.lower().isin(['unknown']).any():\n",
    "        unique_vals = newspaper_df[col].unique()\n",
    "        print(f\"{col}: {unique_vals}\")"
   ]
  },
  {
   "cell_type": "markdown",
   "id": "25e5ea7c",
   "metadata": {},
   "source": [
    "- Language는 결측치 처리에서 unknown을 만든 것이므로 제외\n",
    "- Ethnicity의 unknown 범주에 속하는 데이터 개수는 Language와 똑같이 6.3%. "
   ]
  },
  {
   "cell_type": "code",
   "execution_count": 120,
   "id": "336cf536",
   "metadata": {},
   "outputs": [
    {
     "data": {
      "text/plain": [
       "6.362821661759058"
      ]
     },
     "execution_count": 120,
     "metadata": {},
     "output_type": "execute_result"
    }
   ],
   "source": [
    "newspaper_df[newspaper_df['Ethnicity'].astype(str).str.lower() == 'unknown'].shape[0] / newspaper_df.shape[0] * 100"
   ]
  },
  {
   "cell_type": "markdown",
   "id": "d6536ff7",
   "metadata": {},
   "source": [
    "- Language의 경우와 똑같은 비율이므로 두 변수의 unknown이 공통인지 확인해본 결과 서로 일치\n",
    "- Ethnicity 컬럼도 unknown 범주 유지 결정"
   ]
  },
  {
   "cell_type": "code",
   "execution_count": 121,
   "id": "5996a26e",
   "metadata": {},
   "outputs": [
    {
     "name": "stdout",
     "output_type": "stream",
     "text": [
      "Ethnicity == 'unknown'인 행 수: 994\n",
      "Language == 'unknown'인 행 수: 994\n",
      "둘 다 'unknown'인 행 수: 994\n"
     ]
    }
   ],
   "source": [
    "mask_ethnicity = newspaper_df['Ethnicity'].astype(str).str.lower() == 'unknown'\n",
    "mask_language = newspaper_df['Language'].astype(str).str.lower() == 'unknown'\n",
    "\n",
    "both_unknown = (mask_ethnicity & mask_language).sum()\n",
    "\n",
    "ethnicity_unknown = mask_ethnicity.sum()\n",
    "language_unknown = mask_language.sum()\n",
    "\n",
    "print(f\"Ethnicity == 'unknown'인 행 수: {ethnicity_unknown}\")\n",
    "print(f\"Language == 'unknown'인 행 수: {language_unknown}\")\n",
    "print(f\"둘 다 'unknown'인 행 수: {both_unknown}\")"
   ]
  },
  {
   "cell_type": "markdown",
   "id": "dcef608a",
   "metadata": {},
   "source": [
    "## 3. 범주형 데이터 변환"
   ]
  },
  {
   "cell_type": "markdown",
   "id": "2771b332",
   "metadata": {},
   "source": [
    "#### 3.1. 나이 수치형 데이터로 변환\n",
    "- 성인 기준: **18살 이상**\n",
    "    - https://www.law.cornell.edu/wex/age_of_majority#:~:text=The%20age%20of%20majority%20refers%20to%20the,or%20the%20right%20to%20sign%20a%20contract.\n",
    "- 미국 2024년 평균 기대수명: **78.4살**\n",
    "    - https://www.cdc.gov/nchs/fastats/life-expectancy.htm#:~:text=Both%20sexes:%2078.4%20years.%20Males:%2075.8%20years.%20Females:%2081.1%20years."
   ]
  },
  {
   "cell_type": "markdown",
   "id": "795dbe4a",
   "metadata": {},
   "source": [
    "**<연령대('Age range'\\) 데이터를 정규분포 기반의 수치형 나이로 변환하는 접근의 타당성>**  \n",
    "- 연령대 범위 내 정규분포 기반의 무작위 나이 생성 방식은 전처리 단계에서 통계적 타당성과 실용성을 모두 갖춘 방법. 각 연령대 범위를 하위 계층으로 간주하고, 해당 범위 내에서 중심값을 기준으로 정규분포를 따라 값을 생성함으로써, 범위 내 연령 분포의 자연스러움을 보존 가능. \n",
    "- 이는 층화 샘플링(stratified sampling)과 유사한 원리를 따르며, 층화는 모집단의 하위 그룹 간 분산을 감소시키고 대표성을 보장함으로써 예측 성능 향상에 기여하는 것으로 알려짐 (Lohr, 2021; Cochran, 1977). \n",
    "- 또한 머신러닝 모델의 입력값으로 사용되는 순서형 범주형 변수는 단순 레이블 인코딩보다 수치화될 때 모델이 정보의 상대적 크기를 더 잘 이해하게 되며, 특히 로지스틱 회귀나 트리 기반 모델에서 효과적이다 (Zhang et al., 2021). 따라서 해당 방식은 정보 손실 없이 연령대를 정량화하고, 이탈 예측에 중요한 피처로 반영하기 위한 전처리 전략으로서 충분히 정당화될 수 있음."
   ]
  },
  {
   "cell_type": "code",
   "execution_count": 122,
   "id": "c8158759",
   "metadata": {},
   "outputs": [],
   "source": [
    "age_group_bounds = {\n",
    "    '24 years or less': (18, 24), # 24세 이하 (최소값은 임의로 18로 설정)\n",
    "    '25-29': (25, 29),\n",
    "    '30-34': (30, 34),\n",
    "    '35-39': (35, 39),\n",
    "    '40-44': (40, 44),\n",
    "    '45-49': (45, 49),\n",
    "    '50-54': (50, 54),\n",
    "    '55-59': (55, 59),\n",
    "    '60-64': (60, 64),\n",
    "    '65-69': (65, 69),\n",
    "    '70-74': (70, 74), \n",
    "    '75 years or more': (75, 80) # 나이 최대 값은 80세\n",
    "}\n",
    "\n",
    "# 나이 부여 함수\n",
    "def sample_age(age_range, n_samples):\n",
    "    low, high = age_group_bounds[age_range]\n",
    "    mean = (low + high) / 2  # 평균은 범위의 중앙값\n",
    "    std = (high - low) / 4   # 표준편차는 범위의 1/4 정도로 설정 (약 95%가 범위 안에 들도록)\n",
    "    sampled = np.random.normal(loc=mean, scale=std, size=n_samples) # 정규분포 샘플링\n",
    "    return np.clip(np.round(sampled), low, high).astype(int) # 정수로 반올림하고 범위 내로 제한\n",
    "\n",
    "\n",
    "# Age 컬럼 생성\n",
    "newspaper_df['Age'] = newspaper_df['Age range'].apply(\n",
    "    lambda group: sample_age(group, 1)[0] if pd.notnull(group) else np.nan\n",
    ")"
   ]
  },
  {
   "cell_type": "markdown",
   "id": "66931bcb",
   "metadata": {},
   "source": [
    "### 3.2. 소득 구간 정보 범주형 -> 수치형 변환"
   ]
  },
  {
   "cell_type": "markdown",
   "id": "7de6571a",
   "metadata": {},
   "source": [
    "**<로그 정규분포 기반 소득 샘플링 적용의 타당성>**  \n",
    "- 미국의 개인 소득 및 가구 소득 분포는 일반적인 정규분포가 아닌, 오른쪽으로 긴 꼬리를 가지는 비대칭 분포, 즉 **로그 정규분포나 파레토 분포(Pareto distribution)**의 형태를 띤다고 널리 알려져 있음. 이러한 특성은 고소득자가 전체 소득에서 차지하는 비중이 높고, 대다수는 중·저소득에 밀집해 있는 현실을 반영. 미국 인구조사국(Census Bureau)의 2023년 자료에 따르면, 가구 중위 소득은 약 $80,610이지만, 상위 10%의 소득 하한은 $234,769에 달하며, 상위 1%의 경우 $631,500 이상을 기록했습니다(DQYDJ, 2024). 이처럼 평균보다 중위값이 훨씬 낮고, 소수의 고소득자가 평균치를 끌어올리는 경향은 정규분포보다는 로그 정규분포가 실제 소득 분포를 더 잘 설명한다는 증거.\n",
    "\n",
    "- 또한 학술 연구들 역시 이러한 접근을 지지. 많은 통계학 및 경제학 연구에서 소득이나 자산의 분포를 모델링할 때 로그 정규분포를 사용하는 것이 일반적, 이는 모델이 현실을 보다 정확히 반영할 수 있도록 도움 (Clauset et al., 2009; Reed & Jorgensen, 2004). 특히 머신러닝 프로젝트의 입력 변수로 사용되는 소득 정보는 정규성 가정(normality assumption)을 만족할 필요는 없지만, 현실적인 값과 분포를 유지해야 과적합이나 왜곡 없이 일반화 가능한 모델을 만드는 데 기여.\n",
    "\n",
    "- 따라서 'Income range' 범주를 바탕으로 각 구간의 하한과 상한을 정한 후, 로그 정규분포를 기반으로 현실적인 소득 값을 샘플링하는 방법이 가장 적절하며, 통계적으로도, 실용적으로도, 그리고 실제 소득 분포의 특성과도 부합하는 합리적인 선택."
   ]
  },
  {
   "cell_type": "code",
   "execution_count": 123,
   "id": "f9a38f3c",
   "metadata": {},
   "outputs": [],
   "source": [
    "# 1. 소득 구간별 하한/상한 정의\n",
    "income_bounds = {\n",
    "    'Under $20,000': (10000, 19999),\n",
    "    '$  20,000 - $29,999': (20000, 29999),\n",
    "    '$  30,000 - $39,999': (30000, 39999),\n",
    "    '$  40,000 - $49,999': (40000, 49999),\n",
    "    '$  50,000 - $59,999': (50000, 59999),\n",
    "    '$  60,000 - $69,999': (60000, 69999),\n",
    "    '$  70,000 - $79,999': (70000, 79999),\n",
    "    '$  80,000 - $89,999': (80000, 89999),\n",
    "    '$  90,000 - $99,999': (90000, 99999),\n",
    "    '$100,000 - $124,999': (100000, 124999),\n",
    "    '$125,000 - $149,999': (125000, 149999),\n",
    "    '$150,000 - $174,999': (150000, 174999),\n",
    "    '$175,000 - $199,999': (175000, 199999),\n",
    "    '$200,000 - $249,999': (200000, 249999),\n",
    "    '$250,000 - $299,999': (250000, 299999),\n",
    "    '$300,000 - $399,999': (300000, 399999),\n",
    "    '$400,000 - $499,999': (400000, 499999),\n",
    "    '$500,000 Plus': (500000, 750000),  # 상위 1% 소득 하한($631,500)을 감안해서 유연함 반영 (출처: DQYDJ, 2024)\n",
    "}\n",
    "\n",
    "# 2. 로그 정규분포 기반 샘플링 함수 정의\n",
    "def sample_log_normal_income(income_range, n_samples=1):\n",
    "    if income_range not in income_bounds or pd.isnull(income_range):\n",
    "        return np.nan\n",
    "\n",
    "    low, high = income_bounds[income_range]\n",
    "    mu = np.log((low + high) / 2)\n",
    "    sigma = 0.4  # 분포의 퍼짐 정도 (값이 작을수록 중앙에 집중, 클수록 상한/하한 근처까지 다양하게 퍼짐 => 0.4, 0.5가 중간값 중심 분포를 유지하면서도 현실적인 다양성을 부여하는 수준)\n",
    "\n",
    "    sample = np.random.lognormal(mean=mu, sigma=sigma, size=n_samples)\n",
    "    clipped = np.clip(sample, low, high)\n",
    "    return int(round(clipped[0]))\n",
    "\n",
    "# 3. 적용: 새로운 'Income' 컬럼 생성\n",
    "newspaper_df['Income'] = newspaper_df['HH Income'].apply(sample_log_normal_income)"
   ]
  },
  {
   "cell_type": "markdown",
   "id": "fcdc78bc",
   "metadata": {},
   "source": [
    "### 3.3 나이, 소득 전처리 결과 타당성 확인\n",
    "-  두 변수의 통계 및 히스토그램 확인"
   ]
  },
  {
   "cell_type": "code",
   "execution_count": 124,
   "id": "ac21bdcd",
   "metadata": {},
   "outputs": [
    {
     "data": {
      "text/html": [
       "<div>\n",
       "<style scoped>\n",
       "    .dataframe tbody tr th:only-of-type {\n",
       "        vertical-align: middle;\n",
       "    }\n",
       "\n",
       "    .dataframe tbody tr th {\n",
       "        vertical-align: top;\n",
       "    }\n",
       "\n",
       "    .dataframe thead th {\n",
       "        text-align: right;\n",
       "    }\n",
       "</style>\n",
       "<table border=\"1\" class=\"dataframe\">\n",
       "  <thead>\n",
       "    <tr style=\"text-align: right;\">\n",
       "      <th></th>\n",
       "      <th>Age</th>\n",
       "      <th>Income</th>\n",
       "    </tr>\n",
       "  </thead>\n",
       "  <tbody>\n",
       "    <tr>\n",
       "      <th>count</th>\n",
       "      <td>15622.000000</td>\n",
       "      <td>15622.000000</td>\n",
       "    </tr>\n",
       "    <tr>\n",
       "      <th>mean</th>\n",
       "      <td>52.506465</td>\n",
       "      <td>112276.655870</td>\n",
       "    </tr>\n",
       "    <tr>\n",
       "      <th>std</th>\n",
       "      <td>15.613389</td>\n",
       "      <td>112315.394561</td>\n",
       "    </tr>\n",
       "    <tr>\n",
       "      <th>min</th>\n",
       "      <td>18.000000</td>\n",
       "      <td>10000.000000</td>\n",
       "    </tr>\n",
       "    <tr>\n",
       "      <th>25%</th>\n",
       "      <td>42.000000</td>\n",
       "      <td>40000.000000</td>\n",
       "    </tr>\n",
       "    <tr>\n",
       "      <th>50%</th>\n",
       "      <td>52.000000</td>\n",
       "      <td>80000.000000</td>\n",
       "    </tr>\n",
       "    <tr>\n",
       "      <th>75%</th>\n",
       "      <td>64.000000</td>\n",
       "      <td>140642.500000</td>\n",
       "    </tr>\n",
       "    <tr>\n",
       "      <th>max</th>\n",
       "      <td>80.000000</td>\n",
       "      <td>750000.000000</td>\n",
       "    </tr>\n",
       "  </tbody>\n",
       "</table>\n",
       "</div>"
      ],
      "text/plain": [
       "                Age         Income\n",
       "count  15622.000000   15622.000000\n",
       "mean      52.506465  112276.655870\n",
       "std       15.613389  112315.394561\n",
       "min       18.000000   10000.000000\n",
       "25%       42.000000   40000.000000\n",
       "50%       52.000000   80000.000000\n",
       "75%       64.000000  140642.500000\n",
       "max       80.000000  750000.000000"
      ]
     },
     "execution_count": 124,
     "metadata": {},
     "output_type": "execute_result"
    }
   ],
   "source": [
    "newspaper_df[['Age', 'Income']].describe()"
   ]
  },
  {
   "cell_type": "code",
   "execution_count": 125,
   "id": "8fe48ed9",
   "metadata": {},
   "outputs": [
    {
     "data": {
      "image/png": "[encoded data removed]",
      "text/plain": [
       "<Figure size 1400x600 with 2 Axes>"
      ]
     },
     "metadata": {},
     "output_type": "display_data"
    }
   ],
   "source": [
    "plt.figure(figsize=(14, 6))\n",
    "\n",
    "#나이 히스토그램\n",
    "plt.subplot(1, 2, 1)\n",
    "sns.histplot(newspaper_df['Age'], bins=20, kde=False, color='skyblue')\n",
    "plt.title(\"Age Distribution\")\n",
    "plt.xlabel(\"Age\")\n",
    "plt.ylabel(\"Count\")\n",
    "\n",
    "# 소득 히스토그램\n",
    "plt.subplot(1, 2, 2)\n",
    "sns.histplot(newspaper_df['Income'], bins=40, kde=False, color='salmon')\n",
    "plt.title(\"Income Distribution\")\n",
    "plt.xlabel(\"Income ($)\")\n",
    "plt.ylabel(\"Count\")\n",
    "\n",
    "plt.tight_layout()\n",
    "plt.show()\n"
   ]
  },
  {
   "cell_type": "markdown",
   "id": "4eebfaea",
   "metadata": {},
   "source": [
    "- 전처리된 Age 변수는 평균 52.5세, 중간값 52세, 표준편차 15.6의 값을 가지며, 최솟값 18세, 최댓값 80세 범위로 분포하였다. 히스토그램을 통해 살펴보면 30대 후반부터 60대 초반에 이르기까지 높은 밀도를 보이며, 젊은 층과 고령층도 균형 있게 포함되어 있음을 확인할 수 있다. 이는 각 연령대 범위 내에서 정규분포를 기반으로 샘플링한 방식이 실제 성인 구독자층의 인구 구조와 유사하게 반영되었음을 의미함.\n",
    "\n",
    "- Income 변수는 평균 $112,000, 중간값 $80,000, 표준편차 $111,525의 값을 나타내며, 최대 $750,000까지의 값이 존재한다. 소득 히스토그램은 전형적인 로그 정규분포 형태를 보이며, 대다수의 구독자가 $100,000 이하의 구간에 분포하고, 고소득 구간으로 갈수록 빈도가 급격히 줄어드는 우측 꼬리 구조를 보인다. 이는 실제 미국 소득 분포의 특성과 잘 부합하며, 범주형 소득 데이터를 로그 정규분포 기반으로 수치화한 접근이 현실적인 소득 구조를 왜곡 없이 반영했음을 시각적으로 입증."
   ]
  },
  {
   "cell_type": "markdown",
   "id": "b9668824",
   "metadata": {},
   "source": [
    "### 4. 불필요한 컬럼 삭제\n",
    "- 파생변수로 인해 불필요해진 기존 컬럼 ('HH Income', 'Age range', 'Subscriber')\n",
    "- 뚜렷한 관련이 없는 컬럼('SubscriptionID', 'State', 'Zip Code', 'Address')"
   ]
  },
  {
   "cell_type": "code",
   "execution_count": 126,
   "id": "5d2e8124",
   "metadata": {},
   "outputs": [
    {
     "data": {
      "text/plain": [
       "['SubscriptionID',\n",
       " 'HH Income',\n",
       " 'Home Ownership',\n",
       " 'Ethnicity',\n",
       " 'dummy for Children',\n",
       " 'Year Of Residence',\n",
       " 'Age range',\n",
       " 'Language',\n",
       " 'Address',\n",
       " 'State',\n",
       " 'City',\n",
       " 'County',\n",
       " 'Zip Code',\n",
       " 'weekly fee',\n",
       " 'Deliveryperiod',\n",
       " 'Nielsen Prizm',\n",
       " 'reward program',\n",
       " 'Source Channel',\n",
       " 'Subscriber',\n",
       " 'is_churned',\n",
       " 'Age',\n",
       " 'Income']"
      ]
     },
     "execution_count": 126,
     "metadata": {},
     "output_type": "execute_result"
    }
   ],
   "source": [
    "newspaper_df.columns.to_list()"
   ]
  },
  {
   "cell_type": "code",
   "execution_count": null,
   "id": "8c22d5cf",
   "metadata": {},
   "outputs": [
    {
     "name": "stdout",
     "output_type": "stream",
     "text": [
      "<class 'pandas.core.frame.DataFrame'>\n",
      "Index: 15622 entries, 0 to 15854\n",
      "Data columns (total 15 columns):\n",
      " #   Column              Non-Null Count  Dtype \n",
      "---  ------              --------------  ----- \n",
      " 0   Home Ownership      15622 non-null  object\n",
      " 1   Ethnicity           15622 non-null  object\n",
      " 2   dummy for Children  15622 non-null  object\n",
      " 3   Year Of Residence   15622 non-null  int64 \n",
      " 4   Language            15622 non-null  object\n",
      " 5   City                15622 non-null  object\n",
      " 6   County              15622 non-null  object\n",
      " 7   weekly fee          15622 non-null  object\n",
      " 8   Deliveryperiod      15622 non-null  object\n",
      " 9   Nielsen Prizm       15622 non-null  object\n",
      " 10  reward program      15622 non-null  int64 \n",
      " 11  Source Channel      15622 non-null  object\n",
      " 12  is_churned          15622 non-null  int64 \n",
      " 13  Age                 15622 non-null  int64 \n",
      " 14  Income              15622 non-null  int64 \n",
      "dtypes: int64(5), object(10)\n",
      "memory usage: 1.9+ MB\n"
     ]
    }
   ],
   "source": [
    "newspaper_df.drop(['SubscriptionID', 'HH Income', 'Age range', 'State', 'Zip Code', 'Address', 'Subscriber'], axis=1, inplace=True)\n",
    "# 최종 확인\n",
    "newspaper_df.info()"
   ]
  }
 ],
 "metadata": {
  "kernelspec": {
   "display_name": "Python 3",
   "language": "python",
   "name": "python3"
  },
  "language_info": {
   "codemirror_mode": {
    "name": "ipython",
    "version": 3
   },
   "file_extension": ".py",
   "mimetype": "text/x-python",
   "name": "python",
   "nbconvert_exporter": "python",
   "pygments_lexer": "ipython3",
   "version": "3.11.9"
  }
 },
 "nbformat": 4,
 "nbformat_minor": 5
}
