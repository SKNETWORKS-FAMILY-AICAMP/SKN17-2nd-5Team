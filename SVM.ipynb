{
 "cells": [
  {
   "cell_type": "code",
   "execution_count": 1,
   "id": "10dd137b",
   "metadata": {},
   "outputs": [],
   "source": [
    "import numpy as np\n",
    "import pandas as pd"
   ]
  },
  {
   "cell_type": "code",
   "execution_count": 4,
   "id": "7a84f47f",
   "metadata": {},
   "outputs": [
    {
     "name": "stdout",
     "output_type": "stream",
     "text": [
      "<class 'pandas.core.frame.DataFrame'>\n",
      "RangeIndex: 24868 entries, 0 to 24867\n",
      "Data columns (total 15 columns):\n",
      " #   Column              Non-Null Count  Dtype\n",
      "---  ------              --------------  -----\n",
      " 0   Home Ownership      24868 non-null  int64\n",
      " 1   Ethnicity           24868 non-null  int64\n",
      " 2   dummy for Children  24868 non-null  int64\n",
      " 3   Year Of Residence   24868 non-null  int64\n",
      " 4   Language            24868 non-null  int64\n",
      " 5   City                24868 non-null  int64\n",
      " 6   County              24868 non-null  int64\n",
      " 7   weekly fee          24868 non-null  int64\n",
      " 8   Deliveryperiod      24868 non-null  int64\n",
      " 9   Nielsen Prizm       24868 non-null  int64\n",
      " 10  reward program      24868 non-null  int64\n",
      " 11  Source Channel      24868 non-null  int64\n",
      " 12  Age                 24868 non-null  int64\n",
      " 13  Income              24868 non-null  int64\n",
      " 14  is_churned          24868 non-null  int64\n",
      "dtypes: int64(15)\n",
      "memory usage: 2.8 MB\n"
     ]
    }
   ],
   "source": [
    "df = pd.read_csv('./data/yes_SMOTENC_yes_convert.csv')\n",
    "df.info()"
   ]
  },
  {
   "cell_type": "code",
   "execution_count": 4,
   "id": "ec83f6a8",
   "metadata": {},
   "outputs": [],
   "source": [
    "from sklearn.svm import SVC\n",
    "from sklearn.model_selection import train_test_split, StratifiedKFold, GridSearchCV\n",
    "from sklearn.pipeline import Pipeline\n",
    "from sklearn.metrics import classification_report"
   ]
  },
  {
   "cell_type": "markdown",
   "id": "7ae19832",
   "metadata": {},
   "source": [
    "#### SVC (Kernel = RBF, Linear)"
   ]
  },
  {
   "cell_type": "code",
   "execution_count": 10,
   "id": "80904cfb",
   "metadata": {},
   "outputs": [],
   "source": [
    "X = df.drop('is_churned',axis= 1)\n",
    "y = df['is_churned']\n",
    "\n",
    "X_train, X_test, y_train, y_test = train_test_split(X, y, random_state=42)"
   ]
  },
  {
   "cell_type": "code",
   "execution_count": 11,
   "id": "e1c363ea",
   "metadata": {},
   "outputs": [],
   "source": [
    "model = SVC()"
   ]
  },
  {
   "cell_type": "code",
   "execution_count": null,
   "id": "eb6c8a24",
   "metadata": {},
   "outputs": [
    {
     "name": "stdout",
     "output_type": "stream",
     "text": [
      "SVM (kernel = RBF) 모델 classification report\n",
      "              precision    recall  f1-score   support\n",
      "\n",
      "           0      0.565     0.527     0.545      3143\n",
      "           1      0.547     0.585     0.566      3074\n",
      "\n",
      "    accuracy                          0.556      6217\n",
      "   macro avg      0.556     0.556     0.555      6217\n",
      "weighted avg      0.556     0.556     0.555      6217\n",
      "\n"
     ]
    }
   ],
   "source": [
    "param_grid = [\n",
    "    {\"svc__kernel\": [\"rbf\"],\n",
    "     \"svc__C\": [0.1, 1, 10, 100],\n",
    "     \"svc__gamma\": [\"scale\", \"auto\", 0.01, 0.1, 1.0],\n",
    "     \"svc__class_weight\": [None, \"balanced\"]},\n",
    "    {\"svc__kernel\": [\"linear\"],\n",
    "     \"svc__C\": [0.1, 1, 10, 100],\n",
    "     \"svc__class_weight\": [None, \"balanced\"]}\n",
    "]\n",
    "\n",
    "cv = StratifiedKFold(n_splits=5, shuffle=True, random_state=42)\n",
    "\n",
    "gs = GridSearchCV(\n",
    "    estimator = model,\n",
    "    param_grid=param_grid,\n",
    "    scoring={\"accuracy\":\"accuracy\",\"f1\":\"f1\",\"roc_auc\":\"roc_auc\"},\n",
    "    refit=\"f1\",\n",
    "    cv=cv,\n",
    "    n_jobs=-1,\n",
    "    verbose=1,\n",
    ")\n",
    "\n",
    "gs.fit(X_train, y_train)\n",
    "\n",
    "# 5) 테스트셋 평가\n",
    "y_pred = model.predict(X_test)\n",
    "print('SVM (kernel = RBF) 모델 classification report')\n",
    "print(classification_report(y_test, y_pred, digits=3))"
   ]
  }
 ],
 "metadata": {
  "kernelspec": {
   "display_name": "ml_env",
   "language": "python",
   "name": "python3"
  },
  "language_info": {
   "codemirror_mode": {
    "name": "ipython",
    "version": 3
   },
   "file_extension": ".py",
   "mimetype": "text/x-python",
   "name": "python",
   "nbconvert_exporter": "python",
   "pygments_lexer": "ipython3",
   "version": "3.12.11"
  }
 },
 "nbformat": 4,
 "nbformat_minor": 5
}
