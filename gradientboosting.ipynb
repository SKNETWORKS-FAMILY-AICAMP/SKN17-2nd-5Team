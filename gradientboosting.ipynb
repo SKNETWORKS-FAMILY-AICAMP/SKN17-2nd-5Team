{
 "cells": [
  {
   "cell_type": "code",
   "execution_count": null,
   "id": "e6e6811c",
   "metadata": {},
   "outputs": [],
   "source": [
    "import numpy as np\n",
    "import pandas as pd\n",
    "\n"
   ]
  },
  {
   "cell_type": "markdown",
   "id": "b1bc6cf4",
   "metadata": {},
   "source": [
    "## 1. 모델 학습 GradientBoosting\n",
    "- Smote 미적용, 소득&나이 수치형 변환 X"
   ]
  },
  {
   "cell_type": "code",
   "execution_count": null,
   "id": "7aa977e9",
   "metadata": {},
   "outputs": [
    {
     "name": "stdout",
     "output_type": "stream",
     "text": [
      "GradientBoosting Classifier, No Smote, No Convert\n",
      "best parameters {'learning_rate': 0.1, 'max_depth': 3, 'n_estimators': 200, 'subsample': 1.0}\n",
      "Best threshold: 0.66, Macro F1: 0.7589\n",
      "report               precision    recall  f1-score   support\n",
      "\n",
      "           0       0.64      0.58      0.61       601\n",
      "           1       0.90      0.92      0.91      2487\n",
      "\n",
      "    accuracy                           0.85      3088\n",
      "   macro avg       0.77      0.75      0.76      3088\n",
      "weighted avg       0.85      0.85      0.85      3088\n",
      "\n",
      "Before SMOTE: [2403 9947]\n"
     ]
    }
   ],
   "source": [
    "from sklearn.model_selection import train_test_split, GridSearchCV, cross_val_score\n",
    "from sklearn.metrics import mean_squared_error, f1_score, classification_report\n",
    "from sklearn.ensemble import GradientBoostingClassifier\n",
    "\n",
    "newspaper_df = pd.read_csv('no_SMOTE_no_convert.csv')\n",
    "\n",
    "X = newspaper_df.drop('is_churned', axis=1)\n",
    "y = newspaper_df['is_churned']\n",
    "\n",
    "# 학습 데이터 분리\n",
    "X_train, X_test, y_train, y_test = train_test_split(X, y, test_size=0.2, random_state=42, stratify=y)\n",
    "\n",
    "# GradientBoosting Classifier 모델 생성\n",
    "gb_clf = GradientBoostingClassifier(random_state=42)\n",
    "\n",
    "# 파라미터\n",
    "params = {\n",
    "    'n_estimators': [50, 100, 200],\n",
    "    'learning_rate': [0.01, 0.1, 0.2],\n",
    "    'max_depth': [3, 5],\n",
    "    'subsample': [0.8, 1.0]\n",
    "}\n",
    "\n",
    "# GridSearchCV 설정 및 학습\n",
    "grid_search = GridSearchCV(gb_clf, param_grid=params, cv=5, scoring='f1', n_jobs=-1, return_train_score=True)\n",
    "grid_search.fit(X_train, y_train)\n",
    "\n",
    "# 최적 모델로 예측\n",
    "best_gb = grid_search.best_estimator_\n",
    "y_proba = best_gb.predict_proba(X_test)[:, 1]\n",
    "\n",
    "# threshold 탐색\n",
    "thresholds = np.arange(0.3, 0.71, 0.01)\n",
    "best_thresh, best_macro_f1 = 0.5, 0\n",
    "\n",
    "for t in thresholds:\n",
    "    y_pred_t = (y_proba >= t).astype(int)\n",
    "    f1_0 = f1_score(y_test, y_pred_t, pos_label=0)\n",
    "    f1_1 = f1_score(y_test, y_pred_t, pos_label=1)\n",
    "    macro_f1 = (f1_0 + f1_1) / 2\n",
    "\n",
    "    if macro_f1 > best_macro_f1:\n",
    "        best_macro_f1, best_thresh = macro_f1, t\n",
    "\n",
    "# 최적 threshold 적용\n",
    "y_pred_best = (y_proba >= best_thresh).astype(int)\n",
    "\n",
    "print('GradientBoosting Classifier, No Smote, No Convert')\n",
    "print('best parameters', grid_search.best_params_)\n",
    "print(f'Best threshold: {best_thresh:.2f}, Macro F1: {best_macro_f1:.4f}')\n",
    "print('report', classification_report(y_test, y_pred_best))"
   ]
  },
  {
   "cell_type": "markdown",
   "id": "f9f132bb",
   "metadata": {},
   "source": [
    "## 2. 모델 학습 GradientBoosting\n",
    "- Smote 미적용, 소득&나이 수치형 변환 O"
   ]
  },
  {
   "cell_type": "code",
   "execution_count": null,
   "id": "b34b604f",
   "metadata": {},
   "outputs": [
    {
     "name": "stdout",
     "output_type": "stream",
     "text": [
      "GradientBoosting Classifier, No Smote, Yes Convert\n",
      "best parameters {'learning_rate': 0.2, 'max_depth': 5, 'n_estimators': 50, 'subsample': 0.8}\n",
      "Best threshold: 0.67, Macro F1: 0.7488\n",
      "report               precision    recall  f1-score   support\n",
      "\n",
      "           0       0.60      0.59      0.59       601\n",
      "           1       0.90      0.91      0.90      2487\n",
      "\n",
      "    accuracy                           0.84      3088\n",
      "   macro avg       0.75      0.75      0.75      3088\n",
      "weighted avg       0.84      0.84      0.84      3088\n",
      "\n",
      "Before SMOTE: [2403 9947]\n"
     ]
    }
   ],
   "source": [
    "newspaper_df = pd.read_csv('no_SMOTE_yes_convert.csv')\n",
    "\n",
    "X = newspaper_df.drop('is_churned', axis=1)\n",
    "y = newspaper_df['is_churned']\n",
    "\n",
    "# 학습 데이터 분리\n",
    "X_train, X_test, y_train, y_test = train_test_split(X, y, test_size=0.2, random_state=42, stratify=y)\n",
    "\n",
    "# GradientBoosting Classifier 모델 생성\n",
    "gb_clf = GradientBoostingClassifier(random_state=42)\n",
    "\n",
    "# 파라미터\n",
    "params = {\n",
    "    'n_estimators': [50, 100, 200],\n",
    "    'learning_rate': [0.01, 0.1, 0.2],\n",
    "    'max_depth': [3, 5],\n",
    "    'subsample': [0.8, 1.0]\n",
    "}\n",
    "\n",
    "# GridSearchCV 설정 및 학습\n",
    "grid_search = GridSearchCV(gb_clf, param_grid=params, cv=5, scoring='f1', n_jobs=-1, return_train_score=True)\n",
    "grid_search.fit(X_train, y_train)\n",
    "\n",
    "# 최적 모델로 예측\n",
    "best_gb = grid_search.best_estimator_\n",
    "y_proba = best_gb.predict_proba(X_test)[:, 1]\n",
    "\n",
    "# threshold 탐색\n",
    "thresholds = np.arange(0.3, 0.71, 0.01)\n",
    "best_thresh, best_macro_f1 = 0.5, 0\n",
    "\n",
    "for t in thresholds:\n",
    "    y_pred_t = (y_proba >= t).astype(int)\n",
    "    f1_0 = f1_score(y_test, y_pred_t, pos_label=0)\n",
    "    f1_1 = f1_score(y_test, y_pred_t, pos_label=1)\n",
    "    macro_f1 = (f1_0 + f1_1) / 2\n",
    "\n",
    "    if macro_f1 > best_macro_f1:\n",
    "        best_macro_f1, best_thresh = macro_f1, t\n",
    "\n",
    "# 최적 threshold 적용\n",
    "y_pred_best = (y_proba >= best_thresh).astype(int)\n",
    "\n",
    "print('GradientBoosting Classifier, No Smote, Yes Convert')\n",
    "print('best parameters', grid_search.best_params_)\n",
    "print(f'Best threshold: {best_thresh:.2f}, Macro F1: {best_macro_f1:.4f}')\n",
    "print('report', classification_report(y_test, y_pred_best))"
   ]
  },
  {
   "cell_type": "markdown",
   "id": "74dd9718",
   "metadata": {},
   "source": [
    "## 3. 모델 학습 GradientBoosting\n",
    "- Smote 적용, 소득&나이 수치형 변환 X"
   ]
  },
  {
   "cell_type": "code",
   "execution_count": null,
   "id": "1d00e68a",
   "metadata": {},
   "outputs": [
    {
     "name": "stdout",
     "output_type": "stream",
     "text": [
      "GradientBoosting Classifier, Yes Smote, No Convert\n",
      "best parameters {'learning_rate': 0.2, 'max_depth': 5, 'n_estimators': 200, 'subsample': 1.0}\n",
      "Best threshold: 0.46, Macro F1: 0.8591\n",
      "report               precision    recall  f1-score   support\n",
      "\n",
      "           0       0.85      0.87      0.86      2487\n",
      "           1       0.86      0.85      0.86      2487\n",
      "\n",
      "    accuracy                           0.86      4974\n",
      "   macro avg       0.86      0.86      0.86      4974\n",
      "weighted avg       0.86      0.86      0.86      4974\n",
      "\n",
      "Before SMOTE: [9947 9947]\n"
     ]
    }
   ],
   "source": [
    "newspaper_df = pd.read_csv('yes_SMOTENC_no_convert.csv')\n",
    "\n",
    "X = newspaper_df.drop('is_churned', axis=1)\n",
    "y = newspaper_df['is_churned']\n",
    "\n",
    "# 학습 데이터 분리\n",
    "X_train, X_test, y_train, y_test = train_test_split(X, y, test_size=0.2, random_state=42, stratify=y)\n",
    "\n",
    "# GradientBoosting Classifier 모델 생성\n",
    "gb_clf = GradientBoostingClassifier(random_state=42)\n",
    "\n",
    "# 파라미터\n",
    "params = {\n",
    "    'n_estimators': [50, 100, 200],\n",
    "    'learning_rate': [0.01, 0.1, 0.2],\n",
    "    'max_depth': [3, 5],\n",
    "    'subsample': [0.8, 1.0]\n",
    "}\n",
    "\n",
    "# GridSearchCV 설정 및 학습\n",
    "grid_search = GridSearchCV(gb_clf, param_grid=params, cv=5, scoring='f1', n_jobs=-1, return_train_score=True)\n",
    "grid_search.fit(X_train, y_train)\n",
    "\n",
    "# 최적 모델로 예측\n",
    "best_gb = grid_search.best_estimator_\n",
    "y_proba = best_gb.predict_proba(X_test)[:, 1]\n",
    "\n",
    "# threshold 탐색\n",
    "thresholds = np.arange(0.3, 0.71, 0.01)\n",
    "best_thresh, best_macro_f1 = 0.5, 0\n",
    "\n",
    "for t in thresholds:\n",
    "    y_pred_t = (y_proba >= t).astype(int)\n",
    "    f1_0 = f1_score(y_test, y_pred_t, pos_label=0)\n",
    "    f1_1 = f1_score(y_test, y_pred_t, pos_label=1)\n",
    "    macro_f1 = (f1_0 + f1_1) / 2\n",
    "\n",
    "    if macro_f1 > best_macro_f1:\n",
    "        best_macro_f1, best_thresh = macro_f1, t\n",
    "\n",
    "# 최적 threshold 적용\n",
    "y_pred_best = (y_proba >= best_thresh).astype(int)\n",
    "\n",
    "print('GradientBoosting Classifier, Yes Smote, No Convert')\n",
    "print('best parameters', grid_search.best_params_)\n",
    "print(f'Best threshold: {best_thresh:.2f}, Macro F1: {best_macro_f1:.4f}')\n",
    "print('report', classification_report(y_test, y_pred_best))"
   ]
  },
  {
   "cell_type": "markdown",
   "id": "db06e7e5",
   "metadata": {},
   "source": [
    "## 4. 모델 학습 GradientBoosting\n",
    "- Smote 적용, 소득&나이 수치형 변환 O"
   ]
  },
  {
   "cell_type": "code",
   "execution_count": 13,
   "id": "3c77738b",
   "metadata": {},
   "outputs": [
    {
     "name": "stdout",
     "output_type": "stream",
     "text": [
      "GradientBoosting Classifier, Yes Smote, Yes Convert\n",
      "best parameters {'learning_rate': 0.225, 'max_depth': 8, 'n_estimators': 400, 'subsample': 0.95}\n",
      "Best threshold: 0.40, Macro F1: 0.8892\n",
      "report               precision    recall  f1-score   support\n",
      "\n",
      "           0       0.89      0.89      0.89      2487\n",
      "           1       0.89      0.89      0.89      2487\n",
      "\n",
      "    accuracy                           0.89      4974\n",
      "   macro avg       0.89      0.89      0.89      4974\n",
      "weighted avg       0.89      0.89      0.89      4974\n",
      "\n"
     ]
    }
   ],
   "source": [
    "newspaper_df = pd.read_csv('yes_SMOTENC_yes_convert.csv')\n",
    "\n",
    "X = newspaper_df.drop('is_churned', axis=1)\n",
    "y = newspaper_df['is_churned']\n",
    "\n",
    "# 학습 데이터 분리\n",
    "X_train, X_test, y_train, y_test = train_test_split(X, y, test_size=0.2, random_state=42, stratify=y)\n",
    "\n",
    "# GradientBoosting Classifier 모델 생성\n",
    "gb_clf = GradientBoostingClassifier(random_state=42)\n",
    "\n",
    "# 파라미터\n",
    "params = {\n",
    "    'n_estimators': [250, 300, 350, 400],\n",
    "    'learning_rate': [0.175, 0.2, 0.225, 0.25],\n",
    "    'max_depth': [5, 6, 7, 8],\n",
    "    'subsample': [0.9, 0.95, 1.0]\n",
    "}\n",
    "\n",
    "# GridSearchCV 설정 및 학습\n",
    "grid_search = GridSearchCV(gb_clf, param_grid=params, cv=5, scoring='f1', n_jobs=-1, return_train_score=True)\n",
    "grid_search.fit(X_train, y_train)\n",
    "\n",
    "# 최적 모델로 예측\n",
    "best_gb = grid_search.best_estimator_\n",
    "y_proba = best_gb.predict_proba(X_test)[:, 1]\n",
    "\n",
    "# threshold 탐색\n",
    "thresholds = np.arange(0.3, 0.71, 0.01)\n",
    "best_thresh, best_macro_f1 = 0.5, 0\n",
    "\n",
    "for t in thresholds:\n",
    "    y_pred_t = (y_proba >= t).astype(int)\n",
    "    f1_0 = f1_score(y_test, y_pred_t, pos_label=0)\n",
    "    f1_1 = f1_score(y_test, y_pred_t, pos_label=1)\n",
    "    macro_f1 = (f1_0 + f1_1) / 2\n",
    "\n",
    "    if macro_f1 > best_macro_f1:\n",
    "        best_macro_f1, best_thresh = macro_f1, t\n",
    "\n",
    "# 최적 threshold 적용\n",
    "y_pred_best = (y_proba >= best_thresh).astype(int)\n",
    "\n",
    "print('GradientBoosting Classifier, Yes Smote, Yes Convert')\n",
    "print('best parameters', grid_search.best_params_)\n",
    "print(f'Best threshold: {best_thresh:.2f}, Macro F1: {best_macro_f1:.4f}')\n",
    "print('report', classification_report(y_test, y_pred_best))"
   ]
  },
  {
   "cell_type": "code",
   "execution_count": 14,
   "id": "10b7de4b",
   "metadata": {},
   "outputs": [
    {
     "name": "stdout",
     "output_type": "stream",
     "text": [
      "\n",
      "Permutation Importance on Test Set:\n"
     ]
    },
    {
     "data": {
      "image/png": "[encoded data removed]",
      "text/plain": [
       "<Figure size 1000x800 with 1 Axes>"
      ]
     },
     "metadata": {},
     "output_type": "display_data"
    }
   ],
   "source": [
    "import matplotlib.pyplot as plt\n",
    "from sklearn.inspection import permutation_importance\n",
    "\n",
    "# 변수 중요도 분석 (permutation_importance)\n",
    "print(\"\\nPermutation Importance on Test Set:\")\n",
    "perm_importance = permutation_importance(grid_search.best_estimator_, X_test, y_test, n_repeats=30, random_state=42, n_jobs=-1)\n",
    "\n",
    "perm_df = pd.DataFrame({'feature': X_test.columns, 'importance_mean': perm_importance.importances_mean})\n",
    "perm_df = perm_df.sort_values(by='importance_mean', ascending=False)\n",
    "\n",
    "top_n = 15\n",
    "# 중요도 내림차순 정렬 후 상위 n개 선택\n",
    "perm_df_top = perm_df.sort_values(by='importance_mean', ascending=False).head(top_n)\n",
    "# 그래프는 보통 가독성 위해 오름차순으로 그리니 다시 정렬\n",
    "perm_df_top = perm_df_top.sort_values(by='importance_mean', ascending=True)\n",
    "\n",
    "plt.figure(figsize=(10, 8))\n",
    "plt.barh(perm_df_top['feature'], perm_df_top['importance_mean'], color='skyblue')\n",
    "plt.xlabel('Permutation Importance (Mean)')\n",
    "plt.title(f'Top {top_n} Feature Importances (Permutation Importance)')\n",
    "plt.grid(axis='x', linestyle='--', alpha=0.7)\n",
    "plt.tight_layout()\n",
    "plt.show()"
   ]
  },
  {
   "cell_type": "code",
   "execution_count": 15,
   "id": "0bc6f666",
   "metadata": {},
   "outputs": [
    {
     "name": "stdout",
     "output_type": "stream",
     "text": [
      "No features with negative permutation importance.\n"
     ]
    }
   ],
   "source": [
    "# 음수 중요도 변수만 필터링\n",
    "perm_df_neg = perm_df[perm_df['importance_mean'] < 0]\n",
    "\n",
    "if not perm_df_neg.empty:\n",
    "    # 음수 중요도 변수 내림차순(절댓값 기준) 정렬 (그래프용으로는 오름차순)\n",
    "    perm_df_neg_sorted = perm_df_neg.sort_values(by='importance_mean', ascending=True).head(top_n)\n",
    "\n",
    "    print(\"Features with Negative Permutation Importance:\")\n",
    "    print(perm_df_neg_sorted)\n",
    "\n",
    "    # 시각화\n",
    "    plt.figure(figsize=(8, 6))\n",
    "    plt.barh(perm_df_neg_sorted['feature'], perm_df_neg_sorted['importance_mean'], color='salmon')\n",
    "    plt.xlabel('Permutation Importance (Mean)')\n",
    "    plt.title('Features with Negative Permutation Importance')\n",
    "    plt.grid(axis='x', linestyle='--', alpha=0.7)\n",
    "    plt.tight_layout()\n",
    "    plt.show()\n",
    "else:\n",
    "    print(\"No features with negative permutation importance.\")"
   ]
  }
 ],
 "metadata": {
  "kernelspec": {
   "display_name": "ml_env",
   "language": "python",
   "name": "python3"
  },
  "language_info": {
   "codemirror_mode": {
    "name": "ipython",
    "version": 3
   },
   "file_extension": ".py",
   "mimetype": "text/x-python",
   "name": "python",
   "nbconvert_exporter": "python",
   "pygments_lexer": "ipython3",
   "version": "3.12.11"
  }
 },
 "nbformat": 4,
 "nbformat_minor": 5
}
