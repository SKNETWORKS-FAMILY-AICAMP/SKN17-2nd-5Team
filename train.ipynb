{
 "cells": [
  {
   "cell_type": "code",
   "execution_count": 48,
   "id": "10b33f8f",
   "metadata": {},
   "outputs": [],
   "source": [
    "import pandas as pd\n",
    "from sklearn.model_selection import train_test_split"
   ]
  },
  {
   "cell_type": "code",
   "execution_count": 49,
   "id": "08c0c3c1",
   "metadata": {},
   "outputs": [],
   "source": [
    "data_nsnc = pd.read_csv('data/no_SMOTE_no_convert.csv')\n",
    "data_nsyc = pd.read_csv('data/no_SMOTE_yes_convert.csv')\n",
    "data_ysnc = pd.read_csv('data/yes_SMOTENC_no_convert.csv')\n",
    "data_ysyc = pd.read_csv('data/yes_SMOTENC_yes_convert.csv')"
   ]
  },
  {
   "cell_type": "code",
   "execution_count": 50,
   "id": "cc9fc80a",
   "metadata": {},
   "outputs": [],
   "source": [
    "from sklearn.metrics import classification_report\n",
    "\n",
    "def evaluate_model(model, X_test, y_test, threshold=0.5):\n",
    "    y_proba = model.predict_proba(X_test)[:, 1]\n",
    "    y_pred = (y_proba >= threshold).astype(int)\n",
    "\n",
    "    print(f\"Classification report (threshold={threshold}):\")\n",
    "    print(classification_report(y_test, y_pred))"
   ]
  },
  {
   "cell_type": "code",
   "execution_count": 51,
   "id": "2c6b63fa",
   "metadata": {},
   "outputs": [],
   "source": [
    "from sklearn.model_selection import GridSearchCV\n",
    "from sklearn.metrics import accuracy_score, precision_score, recall_score, f1_score, roc_auc_score, confusion_matrix\n",
    "from sklearn.inspection import permutation_importance\n",
    "from sklearn.tree import DecisionTreeClassifier\n",
    "from sklearn.metrics import classification_report\n",
    "from xgboost import XGBClassifier, plot_importance\n",
    "\n",
    "models = [\n",
    "\n",
    "    ('Decision Tree', DecisionTreeClassifier(), {\n",
    "        'max_depth': [None, 5, 10, 20],\n",
    "        'min_samples_split': [2, 5, 10],\n",
    "        'min_samples_leaf': [1, 5, 10]\n",
    "    })\n",
    "]"
   ]
  },
  {
   "cell_type": "markdown",
   "id": "3bec57b5",
   "metadata": {},
   "source": [
    "### 1. NSNC"
   ]
  },
  {
   "cell_type": "code",
   "execution_count": 52,
   "id": "ad6a0ca2",
   "metadata": {},
   "outputs": [],
   "source": [
    "X = data_nsnc.drop('is_churned', axis=1)\n",
    "y = data_nsnc['is_churned']\n",
    "X_train, X_test, y_train, y_test = train_test_split(X, y, test_size=0.2, stratify=y, random_state=0)"
   ]
  },
  {
   "cell_type": "code",
   "execution_count": 53,
   "id": "426b0450",
   "metadata": {},
   "outputs": [
    {
     "name": "stdout",
     "output_type": "stream",
     "text": [
      "Training Decision Tree ...\n",
      "Decision Tree\n",
      "No Smote No Convert\n",
      "Classification report (threshold=0.3):\n",
      "              precision    recall  f1-score   support\n",
      "\n",
      "           0       0.75      0.26      0.39       601\n",
      "           1       0.85      0.98      0.91      2487\n",
      "\n",
      "    accuracy                           0.84      3088\n",
      "   macro avg       0.80      0.62      0.65      3088\n",
      "weighted avg       0.83      0.84      0.81      3088\n",
      "\n",
      "Decision Tree\n",
      "No Smote No Convert\n",
      "Classification report (threshold=0.5):\n",
      "              precision    recall  f1-score   support\n",
      "\n",
      "           0       0.68      0.41      0.51       601\n",
      "           1       0.87      0.95      0.91      2487\n",
      "\n",
      "    accuracy                           0.85      3088\n",
      "   macro avg       0.77      0.68      0.71      3088\n",
      "weighted avg       0.83      0.85      0.83      3088\n",
      "\n",
      "Decision Tree\n",
      "No Smote No Convert\n",
      "Classification report (threshold=0.7):\n",
      "              precision    recall  f1-score   support\n",
      "\n",
      "           0       0.56      0.54      0.55       601\n",
      "           1       0.89      0.90      0.89      2487\n",
      "\n",
      "    accuracy                           0.83      3088\n",
      "   macro avg       0.73      0.72      0.72      3088\n",
      "weighted avg       0.83      0.83      0.83      3088\n",
      "\n"
     ]
    }
   ],
   "source": [
    "for name, model, params in models:\n",
    "    print(f\"Training {name} ...\")\n",
    "    grid_search = GridSearchCV(model, param_grid=params, cv=5, scoring='f1', n_jobs=-1, return_train_score=True)\n",
    "    grid_search.fit(X_train, y_train)\n",
    "\n",
    "    best_model = grid_search.best_estimator_\n",
    "    \n",
    "    for thr in [0.3, 0.5, 0.7]:\n",
    "        print('Decision Tree')\n",
    "        print('No Smote No Convert')\n",
    "        evaluate_model(best_model, X_test, y_test, threshold=thr)"
   ]
  },
  {
   "cell_type": "markdown",
   "id": "bb1bef3f",
   "metadata": {},
   "source": [
    "### 2. NSYC"
   ]
  },
  {
   "cell_type": "code",
   "execution_count": 54,
   "id": "2409d1cf",
   "metadata": {},
   "outputs": [],
   "source": [
    "X = data_nsyc.drop('is_churned', axis=1)\n",
    "y = data_nsyc['is_churned']\n",
    "X_train, X_test, y_train, y_test = train_test_split(X, y, test_size=0.2, stratify=y, random_state=0)"
   ]
  },
  {
   "cell_type": "code",
   "execution_count": 55,
   "id": "88ab6bb3",
   "metadata": {},
   "outputs": [
    {
     "name": "stdout",
     "output_type": "stream",
     "text": [
      "Training Decision Tree ...\n",
      "Decision Tree\n",
      "No Smote Yes Convert\n",
      "Classification report (threshold=0.3):\n",
      "              precision    recall  f1-score   support\n",
      "\n",
      "           0       0.71      0.26      0.38       601\n",
      "           1       0.84      0.97      0.91      2487\n",
      "\n",
      "    accuracy                           0.84      3088\n",
      "   macro avg       0.78      0.62      0.64      3088\n",
      "weighted avg       0.82      0.84      0.80      3088\n",
      "\n",
      "Decision Tree\n",
      "No Smote Yes Convert\n",
      "Classification report (threshold=0.5):\n",
      "              precision    recall  f1-score   support\n",
      "\n",
      "           0       0.66      0.39      0.49       601\n",
      "           1       0.87      0.95      0.91      2487\n",
      "\n",
      "    accuracy                           0.84      3088\n",
      "   macro avg       0.76      0.67      0.70      3088\n",
      "weighted avg       0.82      0.84      0.82      3088\n",
      "\n",
      "Decision Tree\n",
      "No Smote Yes Convert\n",
      "Classification report (threshold=0.7):\n",
      "              precision    recall  f1-score   support\n",
      "\n",
      "           0       0.54      0.57      0.55       601\n",
      "           1       0.89      0.88      0.89      2487\n",
      "\n",
      "    accuracy                           0.82      3088\n",
      "   macro avg       0.72      0.72      0.72      3088\n",
      "weighted avg       0.82      0.82      0.82      3088\n",
      "\n"
     ]
    }
   ],
   "source": [
    "for name, model, params in models:\n",
    "    print(f\"Training {name} ...\")\n",
    "    grid_search = GridSearchCV(model, param_grid=params, cv=5, scoring='f1', n_jobs=-1, return_train_score=True)\n",
    "    grid_search.fit(X_train, y_train)\n",
    "\n",
    "    best_model = grid_search.best_estimator_\n",
    "\n",
    "    for thr in [0.3, 0.5, 0.7]:\n",
    "        print('Decision Tree')\n",
    "        print('No Smote Yes Convert')\n",
    "        evaluate_model(best_model, X_test, y_test, threshold=thr)"
   ]
  },
  {
   "cell_type": "markdown",
   "id": "5d4e2432",
   "metadata": {},
   "source": [
    "### 3. YSNC"
   ]
  },
  {
   "cell_type": "code",
   "execution_count": 56,
   "id": "3136e2a4",
   "metadata": {},
   "outputs": [],
   "source": [
    "X = data_ysnc.drop('is_churned', axis=1)\n",
    "y = data_ysnc['is_churned']\n",
    "X_train, X_test, y_train, y_test = train_test_split(X, y, test_size=0.2, stratify=y, random_state=0)"
   ]
  },
  {
   "cell_type": "code",
   "execution_count": 57,
   "id": "e7528b2e",
   "metadata": {},
   "outputs": [
    {
     "name": "stdout",
     "output_type": "stream",
     "text": [
      "Training Decision Tree ...\n",
      "Decision Tree\n",
      "Yes Smote No Convert\n",
      "Classification report (threshold=0.3):\n",
      "              precision    recall  f1-score   support\n",
      "\n",
      "           0       0.81      0.84      0.82      2487\n",
      "           1       0.83      0.81      0.82      2487\n",
      "\n",
      "    accuracy                           0.82      4974\n",
      "   macro avg       0.82      0.82      0.82      4974\n",
      "weighted avg       0.82      0.82      0.82      4974\n",
      "\n",
      "Decision Tree\n",
      "Yes Smote No Convert\n",
      "Classification report (threshold=0.5):\n",
      "              precision    recall  f1-score   support\n",
      "\n",
      "           0       0.81      0.84      0.82      2487\n",
      "           1       0.83      0.81      0.82      2487\n",
      "\n",
      "    accuracy                           0.82      4974\n",
      "   macro avg       0.82      0.82      0.82      4974\n",
      "weighted avg       0.82      0.82      0.82      4974\n",
      "\n",
      "Decision Tree\n",
      "Yes Smote No Convert\n",
      "Classification report (threshold=0.7):\n",
      "              precision    recall  f1-score   support\n",
      "\n",
      "           0       0.81      0.84      0.82      2487\n",
      "           1       0.83      0.81      0.82      2487\n",
      "\n",
      "    accuracy                           0.82      4974\n",
      "   macro avg       0.82      0.82      0.82      4974\n",
      "weighted avg       0.82      0.82      0.82      4974\n",
      "\n"
     ]
    }
   ],
   "source": [
    "for name, model, params in models:\n",
    "    print(f\"Training {name} ...\")\n",
    "    grid_search = GridSearchCV(model, param_grid=params, cv=5, scoring='f1', n_jobs=-1, return_train_score=True)\n",
    "    grid_search.fit(X_train, y_train)\n",
    "\n",
    "    best_model = grid_search.best_estimator_\n",
    "\n",
    "    for thr in [0.3, 0.5, 0.7]:\n",
    "        print('Decision Tree')\n",
    "        print('Yes Smote No Convert')\n",
    "        evaluate_model(best_model, X_test, y_test, threshold=thr)"
   ]
  },
  {
   "cell_type": "markdown",
   "id": "006ed9d6",
   "metadata": {},
   "source": [
    "### 4. YSYC"
   ]
  },
  {
   "cell_type": "code",
   "execution_count": 58,
   "id": "c1292895",
   "metadata": {},
   "outputs": [],
   "source": [
    "X = data_ysyc.drop('is_churned', axis=1)\n",
    "y = data_ysyc['is_churned']\n",
    "X_train, X_test, y_train, y_test = train_test_split(X, y, test_size=0.2, stratify=y, random_state=0)"
   ]
  },
  {
   "cell_type": "code",
   "execution_count": 59,
   "id": "49be2fbe",
   "metadata": {},
   "outputs": [
    {
     "name": "stdout",
     "output_type": "stream",
     "text": [
      "Training Decision Tree ...\n",
      "Decision Tree\n",
      "Yes Smote Yes Convert\n",
      "Classification report (threshold=0.3):\n",
      "              precision    recall  f1-score   support\n",
      "\n",
      "           0       0.86      0.69      0.76      2487\n",
      "           1       0.74      0.89      0.81      2487\n",
      "\n",
      "    accuracy                           0.79      4974\n",
      "   macro avg       0.80      0.79      0.79      4974\n",
      "weighted avg       0.80      0.79      0.79      4974\n",
      "\n",
      "Decision Tree\n",
      "Yes Smote Yes Convert\n",
      "Classification report (threshold=0.5):\n",
      "              precision    recall  f1-score   support\n",
      "\n",
      "           0       0.81      0.82      0.81      2487\n",
      "           1       0.82      0.80      0.81      2487\n",
      "\n",
      "    accuracy                           0.81      4974\n",
      "   macro avg       0.81      0.81      0.81      4974\n",
      "weighted avg       0.81      0.81      0.81      4974\n",
      "\n",
      "Decision Tree\n",
      "Yes Smote Yes Convert\n",
      "Classification report (threshold=0.7):\n",
      "              precision    recall  f1-score   support\n",
      "\n",
      "           0       0.75      0.90      0.82      2487\n",
      "           1       0.88      0.70      0.78      2487\n",
      "\n",
      "    accuracy                           0.80      4974\n",
      "   macro avg       0.81      0.80      0.80      4974\n",
      "weighted avg       0.81      0.80      0.80      4974\n",
      "\n"
     ]
    }
   ],
   "source": [
    "for name, model, params in models:\n",
    "    print(f\"Training {name} ...\")\n",
    "    grid_search = GridSearchCV(model, param_grid=params, cv=5, scoring='f1', n_jobs=-1, return_train_score=True)\n",
    "    grid_search.fit(X_train, y_train)\n",
    "\n",
    "    best_model = grid_search.best_estimator_\n",
    "\n",
    "    for thr in [0.3, 0.5, 0.7]:\n",
    "        print('Decision Tree')\n",
    "        print('Yes Smote Yes Convert')\n",
    "        evaluate_model(best_model, X_test, y_test, threshold=thr)"
   ]
  },
  {
   "cell_type": "code",
   "execution_count": null,
   "id": "bc78b936",
   "metadata": {},
   "outputs": [],
   "source": [
    "# # 변수 중요도 분석 (permutation_importance)\n",
    "# print(\"\\nPermutation Importance on Test Set:\")\n",
    "# perm_importance = permutation_importance(best_model_result['Best Estimator'], X_test, y_test, n_repeats=30, random_state=42, n_jobs=-1)\n",
    "\n",
    "# perm_df = pd.DataFrame({'feature': X_test.columns, 'importance_mean': perm_importance.importances_mean})\n",
    "# perm_df = perm_df.sort_values(by='importance_mean', ascending=False)\n",
    "\n",
    "# print(perm_df.head(15))"
   ]
  }
 ],
 "metadata": {
  "kernelspec": {
   "display_name": "ml",
   "language": "python",
   "name": "python3"
  },
  "language_info": {
   "codemirror_mode": {
    "name": "ipython",
    "version": 3
   },
   "file_extension": ".py",
   "mimetype": "text/x-python",
   "name": "python",
   "nbconvert_exporter": "python",
   "pygments_lexer": "ipython3",
   "version": "3.12.11"
  }
 },
 "nbformat": 4,
 "nbformat_minor": 5
}
