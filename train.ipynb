{
 "cells": [
  {
   "cell_type": "code",
   "execution_count": 1,
   "id": "10b33f8f",
   "metadata": {},
   "outputs": [],
   "source": [
    "import pandas as pd\n",
    "import numpy as np\n",
    "from sklearn.model_selection import train_test_split"
   ]
  },
  {
   "cell_type": "code",
   "execution_count": 2,
   "id": "08c0c3c1",
   "metadata": {},
   "outputs": [],
   "source": [
    "data_nsnc = pd.read_csv('data/no_SMOTE_no_convert.csv')\n",
    "data_nsyc = pd.read_csv('data/no_SMOTE_yes_convert.csv')\n",
    "data_ysnc = pd.read_csv('data/yes_SMOTENC_no_convert.csv')\n",
    "data_ysyc = pd.read_csv('data/yes_SMOTENC_yes_convert.csv')"
   ]
  },
  {
   "cell_type": "code",
   "execution_count": 3,
   "id": "cc9fc80a",
   "metadata": {},
   "outputs": [],
   "source": [
    "from sklearn.metrics import classification_report\n",
    "\n",
    "def evaluate_model(model, X_test, y_test, threshold=0.5):\n",
    "    y_proba = model.predict_proba(X_test)[:, 1]\n",
    "    y_pred = (y_proba >= threshold).astype(int)\n",
    "\n",
    "    print(f\"Classification report (threshold={threshold}):\")\n",
    "    print(classification_report(y_test, y_pred))"
   ]
  },
  {
   "cell_type": "code",
   "execution_count": 4,
   "id": "2c6b63fa",
   "metadata": {},
   "outputs": [],
   "source": [
    "from sklearn.model_selection import GridSearchCV\n",
    "from sklearn.metrics import accuracy_score, precision_score, recall_score, f1_score, roc_auc_score, confusion_matrix\n",
    "from sklearn.inspection import permutation_importance\n",
    "from sklearn.tree import DecisionTreeClassifier\n",
    "from sklearn.metrics import classification_report\n",
    "from xgboost import XGBClassifier, plot_importance\n",
    "from sklearn.ensemble import GradientBoostingClassifier\n",
    "\n",
    "models = [\n",
    "\n",
    "    ('XGBoost', XGBClassifier(random_state=42), {\n",
    "        'n_estimators': [100, 200, 300, 500],\n",
    "        'learning_rate': [0.05, 0.1, 0.2],\n",
    "        'max_depth': [3, 5, 7, 10],\n",
    "        'min_child_weight': [1, 3, 5],\n",
    "    })\n",
    "    # ('GradientBoosting', GradientBoostingClassifier(random_state=42), {\n",
    "    #     'n_estimators': [50, 100, 200],\n",
    "    #     'learning_rate': [0.01, 0.1, 0.2],\n",
    "    #     'max_depth': [3, 5],\n",
    "    #     'subsample': [0.8, 1.0]\n",
    "    # })\n",
    "]"
   ]
  },
  {
   "cell_type": "markdown",
   "id": "3bec57b5",
   "metadata": {},
   "source": [
    "### 1. NSNC"
   ]
  },
  {
   "cell_type": "code",
   "execution_count": 52,
   "id": "ad6a0ca2",
   "metadata": {},
   "outputs": [],
   "source": [
    "X = data_nsnc.drop('is_churned', axis=1)\n",
    "y = data_nsnc['is_churned']\n",
    "X_train, X_test, y_train, y_test = train_test_split(X, y, test_size=0.2, stratify=y, random_state=0)"
   ]
  },
  {
   "cell_type": "code",
   "execution_count": null,
   "id": "426b0450",
   "metadata": {},
   "outputs": [
    {
     "name": "stdout",
     "output_type": "stream",
     "text": [
      "Training Decision Tree ...\n",
      "Decision Tree\n",
      "No Smote No Convert\n",
      "Classification report (threshold=0.3):\n",
      "              precision    recall  f1-score   support\n",
      "\n",
      "           0       0.75      0.26      0.39       601\n",
      "           1       0.85      0.98      0.91      2487\n",
      "\n",
      "    accuracy                           0.84      3088\n",
      "   macro avg       0.80      0.62      0.65      3088\n",
      "weighted avg       0.83      0.84      0.81      3088\n",
      "\n",
      "Decision Tree\n",
      "No Smote No Convert\n",
      "Classification report (threshold=0.5):\n",
      "              precision    recall  f1-score   support\n",
      "\n",
      "           0       0.68      0.41      0.51       601\n",
      "           1       0.87      0.95      0.91      2487\n",
      "\n",
      "    accuracy                           0.85      3088\n",
      "   macro avg       0.77      0.68      0.71      3088\n",
      "weighted avg       0.83      0.85      0.83      3088\n",
      "\n",
      "Decision Tree\n",
      "No Smote No Convert\n",
      "Classification report (threshold=0.7):\n",
      "              precision    recall  f1-score   support\n",
      "\n",
      "           0       0.56      0.54      0.55       601\n",
      "           1       0.89      0.90      0.89      2487\n",
      "\n",
      "    accuracy                           0.83      3088\n",
      "   macro avg       0.73      0.72      0.72      3088\n",
      "weighted avg       0.83      0.83      0.83      3088\n",
      "\n"
     ]
    }
   ],
   "source": [
    "for name, model, params in models:\n",
    "    print(f\"Training {name} ...\")\n",
    "\n",
    "    grid_search = GridSearchCV(model, param_grid=params, cv=5, scoring='f1', n_jobs=-1, return_train_score=True)\n",
    "    grid_search.fit(X_train, y_train)\n",
    "\n",
    "    best_model = grid_search.best_estimator_\n",
    "    y_proba = best_model.predict_proba(X_test)[:, 1]\n",
    "\n",
    "    thresholds = np.arange(0.3, 0.71, 0.01)\n",
    "    best_thresh, best_macro_f1 = 0.5, 0\n",
    "\n",
    "    for t in thresholds:\n",
    "        y_pred_t = (y_proba >= t).astype(int)\n",
    "        f1_0 = f1_score(y_test, y_pred_t, pos_label=0)\n",
    "        f1_1 = f1_score(y_test, y_pred_t, pos_label=1)\n",
    "        macro_f1 = (f1_0 + f1_1) / 2\n",
    "\n",
    "        if macro_f1 > best_macro_f1:\n",
    "            best_macro_f1, best_thresh = macro_f1, t\n",
    "\n",
    "    y_pred_best = (y_proba >= best_thresh).astype(int)\n",
    "\n",
    "    print('GradientBoosting Classifier, No Smote, No Convert')\n",
    "    print('best parameters', grid_search.best_params_)\n",
    "    print(f'Best threshold: {best_thresh:.2f}, Macro F1: {best_macro_f1:.4f}')\n",
    "    print('report', classification_report(y_test, y_pred_best))"
   ]
  },
  {
   "cell_type": "markdown",
   "id": "bb1bef3f",
   "metadata": {},
   "source": [
    "### 2. NSYC"
   ]
  },
  {
   "cell_type": "code",
   "execution_count": 54,
   "id": "2409d1cf",
   "metadata": {},
   "outputs": [],
   "source": [
    "X = data_nsyc.drop('is_churned', axis=1)\n",
    "y = data_nsyc['is_churned']\n",
    "X_train, X_test, y_train, y_test = train_test_split(X, y, test_size=0.2, stratify=y, random_state=0)"
   ]
  },
  {
   "cell_type": "code",
   "execution_count": null,
   "id": "88ab6bb3",
   "metadata": {},
   "outputs": [
    {
     "name": "stdout",
     "output_type": "stream",
     "text": [
      "Training Decision Tree ...\n",
      "Decision Tree\n",
      "No Smote Yes Convert\n",
      "Classification report (threshold=0.3):\n",
      "              precision    recall  f1-score   support\n",
      "\n",
      "           0       0.71      0.26      0.38       601\n",
      "           1       0.84      0.97      0.91      2487\n",
      "\n",
      "    accuracy                           0.84      3088\n",
      "   macro avg       0.78      0.62      0.64      3088\n",
      "weighted avg       0.82      0.84      0.80      3088\n",
      "\n",
      "Decision Tree\n",
      "No Smote Yes Convert\n",
      "Classification report (threshold=0.5):\n",
      "              precision    recall  f1-score   support\n",
      "\n",
      "           0       0.66      0.39      0.49       601\n",
      "           1       0.87      0.95      0.91      2487\n",
      "\n",
      "    accuracy                           0.84      3088\n",
      "   macro avg       0.76      0.67      0.70      3088\n",
      "weighted avg       0.82      0.84      0.82      3088\n",
      "\n",
      "Decision Tree\n",
      "No Smote Yes Convert\n",
      "Classification report (threshold=0.7):\n",
      "              precision    recall  f1-score   support\n",
      "\n",
      "           0       0.54      0.57      0.55       601\n",
      "           1       0.89      0.88      0.89      2487\n",
      "\n",
      "    accuracy                           0.82      3088\n",
      "   macro avg       0.72      0.72      0.72      3088\n",
      "weighted avg       0.82      0.82      0.82      3088\n",
      "\n"
     ]
    }
   ],
   "source": [
    "for name, model, params in models:\n",
    "    print(f\"Training {name} ...\")\n",
    "\n",
    "    grid_search = GridSearchCV(model, param_grid=params, cv=5, scoring='f1', n_jobs=-1, return_train_score=True)\n",
    "    grid_search.fit(X_train, y_train)\n",
    "\n",
    "    best_model = grid_search.best_estimator_\n",
    "    y_proba = best_model.predict_proba(X_test)[:, 1]\n",
    "\n",
    "    thresholds = np.arange(0.3, 0.71, 0.01)\n",
    "    best_thresh, best_macro_f1 = 0.5, 0\n",
    "\n",
    "    for t in thresholds:\n",
    "        y_pred_t = (y_proba >= t).astype(int)\n",
    "        f1_0 = f1_score(y_test, y_pred_t, pos_label=0)\n",
    "        f1_1 = f1_score(y_test, y_pred_t, pos_label=1)\n",
    "        macro_f1 = (f1_0 + f1_1) / 2\n",
    "\n",
    "        if macro_f1 > best_macro_f1:\n",
    "            best_macro_f1, best_thresh = macro_f1, t\n",
    "\n",
    "    y_pred_best = (y_proba >= best_thresh).astype(int)\n",
    "\n",
    "    print(f'{model}, No Smote, Yes Convert')\n",
    "    print('best parameters', grid_search.best_params_)\n",
    "    print(f'Best threshold: {best_thresh:.2f}, Macro F1: {best_macro_f1:.4f}')\n",
    "    print('report', classification_report(y_test, y_pred_best))\n",
    "    print('####################################################')"
   ]
  },
  {
   "cell_type": "markdown",
   "id": "5d4e2432",
   "metadata": {},
   "source": [
    "### 3. YSNC"
   ]
  },
  {
   "cell_type": "code",
   "execution_count": 56,
   "id": "3136e2a4",
   "metadata": {},
   "outputs": [],
   "source": [
    "X = data_ysnc.drop('is_churned', axis=1)\n",
    "y = data_ysnc['is_churned']\n",
    "X_train, X_test, y_train, y_test = train_test_split(X, y, test_size=0.2, stratify=y, random_state=0)"
   ]
  },
  {
   "cell_type": "code",
   "execution_count": null,
   "id": "e7528b2e",
   "metadata": {},
   "outputs": [
    {
     "name": "stdout",
     "output_type": "stream",
     "text": [
      "Training Decision Tree ...\n",
      "Decision Tree\n",
      "Yes Smote No Convert\n",
      "Classification report (threshold=0.3):\n",
      "              precision    recall  f1-score   support\n",
      "\n",
      "           0       0.81      0.84      0.82      2487\n",
      "           1       0.83      0.81      0.82      2487\n",
      "\n",
      "    accuracy                           0.82      4974\n",
      "   macro avg       0.82      0.82      0.82      4974\n",
      "weighted avg       0.82      0.82      0.82      4974\n",
      "\n",
      "Decision Tree\n",
      "Yes Smote No Convert\n",
      "Classification report (threshold=0.5):\n",
      "              precision    recall  f1-score   support\n",
      "\n",
      "           0       0.81      0.84      0.82      2487\n",
      "           1       0.83      0.81      0.82      2487\n",
      "\n",
      "    accuracy                           0.82      4974\n",
      "   macro avg       0.82      0.82      0.82      4974\n",
      "weighted avg       0.82      0.82      0.82      4974\n",
      "\n",
      "Decision Tree\n",
      "Yes Smote No Convert\n",
      "Classification report (threshold=0.7):\n",
      "              precision    recall  f1-score   support\n",
      "\n",
      "           0       0.81      0.84      0.82      2487\n",
      "           1       0.83      0.81      0.82      2487\n",
      "\n",
      "    accuracy                           0.82      4974\n",
      "   macro avg       0.82      0.82      0.82      4974\n",
      "weighted avg       0.82      0.82      0.82      4974\n",
      "\n"
     ]
    }
   ],
   "source": [
    "for name, model, params in models:\n",
    "    print(f\"Training {name} ...\")\n",
    "\n",
    "    grid_search = GridSearchCV(model, param_grid=params, cv=5, scoring='f1', n_jobs=-1, return_train_score=True)\n",
    "    grid_search.fit(X_train, y_train)\n",
    "\n",
    "    best_model = grid_search.best_estimator_\n",
    "    y_proba = best_model.predict_proba(X_test)[:, 1]\n",
    "\n",
    "    thresholds = np.arange(0.3, 0.71, 0.01)\n",
    "    best_thresh, best_macro_f1 = 0.5, 0\n",
    "\n",
    "    for t in thresholds:\n",
    "        y_pred_t = (y_proba >= t).astype(int)\n",
    "        f1_0 = f1_score(y_test, y_pred_t, pos_label=0)\n",
    "        f1_1 = f1_score(y_test, y_pred_t, pos_label=1)\n",
    "        macro_f1 = (f1_0 + f1_1) / 2\n",
    "\n",
    "        if macro_f1 > best_macro_f1:\n",
    "            best_macro_f1, best_thresh = macro_f1, t\n",
    "\n",
    "    y_pred_best = (y_proba >= best_thresh).astype(int)\n",
    "\n",
    "    print('GradientBoosting Classifier, Yes Smote, No Convert')\n",
    "    print('best parameters', grid_search.best_params_)\n",
    "    print(f'Best threshold: {best_thresh:.2f}, Macro F1: {best_macro_f1:.4f}')\n",
    "    print('report', classification_report(y_test, y_pred_best))"
   ]
  },
  {
   "cell_type": "markdown",
   "id": "006ed9d6",
   "metadata": {},
   "source": [
    "### 4. YSYC"
   ]
  },
  {
   "cell_type": "code",
   "execution_count": 5,
   "id": "c1292895",
   "metadata": {},
   "outputs": [],
   "source": [
    "X = data_ysyc.drop('is_churned', axis=1)\n",
    "y = data_ysyc['is_churned']\n",
    "X_train, X_test, y_train, y_test = train_test_split(X, y, test_size=0.2, stratify=y, random_state=0)"
   ]
  },
  {
   "cell_type": "code",
   "execution_count": 6,
   "id": "49be2fbe",
   "metadata": {},
   "outputs": [
    {
     "name": "stdout",
     "output_type": "stream",
     "text": [
      "Training XGBoost ...\n",
      "Best model CV mean F1: 0.8691 (+/- 0.0039)\n",
      "XGBoost, Yes Smote, Yes Convert\n",
      "best parameters {'learning_rate': 0.1, 'max_depth': 10, 'min_child_weight': 1, 'n_estimators': 500}\n",
      "Best threshold: 0.45, Macro F1: 0.8778\n",
      "report               precision    recall  f1-score   support\n",
      "\n",
      "           0       0.88      0.88      0.88      2487\n",
      "           1       0.88      0.88      0.88      2487\n",
      "\n",
      "    accuracy                           0.88      4974\n",
      "   macro avg       0.88      0.88      0.88      4974\n",
      "weighted avg       0.88      0.88      0.88      4974\n",
      "\n",
      "####################################################\n"
     ]
    }
   ],
   "source": [
    "for name, model, params in models:\n",
    "    print(f\"Training {name} ...\")\n",
    "\n",
    "    grid_search = GridSearchCV(model, param_grid=params, cv=5, scoring='f1', n_jobs=-1, return_train_score=True)\n",
    "    grid_search.fit(X_train, y_train)\n",
    "\n",
    "    best_index = grid_search.best_index_\n",
    "    mean_f1 = grid_search.cv_results_['mean_test_score'][best_index]\n",
    "    std_f1 = grid_search.cv_results_['std_test_score'][best_index]\n",
    "\n",
    "    print(f\"Best model CV mean F1: {mean_f1:.4f} (+/- {std_f1:.4f})\")\n",
    "\n",
    "    best_model = grid_search.best_estimator_\n",
    "    y_proba = best_model.predict_proba(X_test)[:, 1]\n",
    "\n",
    "    thresholds = np.arange(0.3, 0.71, 0.01)\n",
    "    best_thresh, best_macro_f1 = 0.5, 0\n",
    "\n",
    "    for t in thresholds:\n",
    "        y_pred_t = (y_proba >= t).astype(int)\n",
    "        f1_0 = f1_score(y_test, y_pred_t, pos_label=0)\n",
    "        f1_1 = f1_score(y_test, y_pred_t, pos_label=1)\n",
    "        macro_f1 = (f1_0 + f1_1) / 2\n",
    "\n",
    "        if macro_f1 > best_macro_f1:\n",
    "            best_macro_f1, best_thresh = macro_f1, t\n",
    "\n",
    "    y_pred_best = (y_proba >= best_thresh).astype(int)\n",
    "\n",
    "    print(f'{name}, Yes Smote, Yes Convert')\n",
    "    print('best parameters', grid_search.best_params_)\n",
    "    print(f'Best threshold: {best_thresh:.2f}, Macro F1: {best_macro_f1:.4f}')\n",
    "    print('report', classification_report(y_test, y_pred_best))\n",
    "    print('####################################################')"
   ]
  },
  {
   "cell_type": "code",
   "execution_count": null,
   "id": "57b90a92",
   "metadata": {},
   "outputs": [],
   "source": [
    "from sklearn.metrics import confusion_matrix\n",
    "import seaborn as sns\n",
    "import matplotlib.pyplot as plt\n",
    "\n",
    "cm = confusion_matrix(y_test, y_pred_best)\n",
    "\n",
    "plt.figure(figsize=(6,4))\n",
    "sns.heatmap(cm, annot=True, fmt='d', cmap='Blues')\n",
    "plt.xlabel('Predicted label')\n",
    "plt.ylabel('True label')\n",
    "plt.title('Confusion Matrix')\n",
    "plt.show()"
   ]
  },
  {
   "cell_type": "code",
   "execution_count": 7,
   "id": "d2b7ce5e",
   "metadata": {},
   "outputs": [
    {
     "name": "stdout",
     "output_type": "stream",
     "text": [
      "Model saved to XGBoost_best_model.pkl\n"
     ]
    }
   ],
   "source": [
    "import joblib\n",
    "\n",
    "filename = f'{name}_best_model.pkl'\n",
    "joblib.dump(best_model, filename)\n",
    "print(f'Model saved to {filename}')"
   ]
  },
  {
   "cell_type": "code",
   "execution_count": 8,
   "id": "13d9b46c",
   "metadata": {},
   "outputs": [
    {
     "data": {
      "image/png": "[encoded data removed]",
      "text/plain": [
       "<Figure size 640x480 with 1 Axes>"
      ]
     },
     "metadata": {},
     "output_type": "display_data"
    }
   ],
   "source": [
    "from sklearn.metrics import roc_curve, auc\n",
    "import matplotlib.pyplot as plt\n",
    "\n",
    "# 최적 모델로 테스트셋 확률 예측 (이미 y_proba 있음)\n",
    "fpr, tpr, thresholds = roc_curve(y_test, y_proba)\n",
    "roc_auc = auc(fpr, tpr)\n",
    "\n",
    "plt.figure()\n",
    "plt.plot(fpr, tpr, color='darkorange', lw=2, label=f'ROC curve (AUC = {roc_auc:.3f})')\n",
    "plt.plot([0, 1], [0, 1], color='navy', lw=1, linestyle='--')\n",
    "plt.xlim([0.0, 1.0])\n",
    "plt.ylim([0.0, 1.05])\n",
    "plt.xlabel('False Positive Rate')\n",
    "plt.ylabel('True Positive Rate')\n",
    "plt.title(f'ROC Curve - {name}')\n",
    "plt.legend(loc=\"lower right\")\n",
    "plt.show()"
   ]
  },
  {
   "cell_type": "code",
   "execution_count": 9,
   "id": "bc78b936",
   "metadata": {},
   "outputs": [
    {
     "data": {
      "image/png": "[encoded data removed]",
      "text/plain": [
       "<Figure size 1000x600 with 1 Axes>"
      ]
     },
     "metadata": {},
     "output_type": "display_data"
    }
   ],
   "source": [
    "from sklearn.inspection import permutation_importance\n",
    "import pandas as pd\n",
    "import seaborn as sns\n",
    "\n",
    "# test 데이터를 기준으로 permutation importance 계산\n",
    "result = permutation_importance(best_model, X_test, y_test, n_repeats=30, random_state=42, n_jobs=-1)\n",
    "\n",
    "# 중요도 정리\n",
    "importance_df = pd.DataFrame({\n",
    "    'feature': X_test.columns,\n",
    "    'importance_mean': result.importances_mean,\n",
    "    'importance_std': result.importances_std\n",
    "})\n",
    "\n",
    "importance_df = importance_df.sort_values(by='importance_mean', ascending=False)\n",
    "\n",
    "# 시각화\n",
    "plt.figure(figsize=(10,6))\n",
    "sns.barplot(x='importance_mean', y='feature', data=importance_df)\n",
    "plt.title(f'Permutation Importance - {name}')\n",
    "plt.tight_layout()\n",
    "plt.show()"
   ]
  },
  {
   "cell_type": "code",
   "execution_count": 10,
   "id": "fb5b84a0",
   "metadata": {},
   "outputs": [
    {
     "name": "stdout",
     "output_type": "stream",
     "text": [
      "No features with negative permutation importance.\n"
     ]
    }
   ],
   "source": [
    "importance_df_neg = importance_df[importance_df['importance_mean'] < 0]\n",
    "\n",
    "if not importance_df_neg.empty:\n",
    "    # 음수 중요도 변수 내림차순(절댓값 기준) 정렬 (그래프용으로는 오름차순)\n",
    "    importance_df_neg_sorted = importance_df_neg.sort_values(by='importance_mean', ascending=True).head(15)\n",
    "\n",
    "    print(\"Features with Negative Permutation Importance:\")\n",
    "    print(importance_df_neg_sorted)\n",
    "\n",
    "    # 시각화\n",
    "    plt.figure(figsize=(8, 6))\n",
    "    plt.barh(importance_df_neg_sorted['feature'], importance_df_neg_sorted['importance_mean'], color='salmon')\n",
    "    plt.xlabel('Permutation Importance (Mean)')\n",
    "    plt.title('Features with Negative Permutation Importance')\n",
    "    plt.grid(axis='x', linestyle='--', alpha=0.7)\n",
    "    plt.tight_layout()\n",
    "    plt.show()\n",
    "else:\n",
    "    print(\"No features with negative permutation importance.\")"
   ]
  }
 ],
 "metadata": {
  "kernelspec": {
   "display_name": "Python 3",
   "language": "python",
   "name": "python3"
  },
  "language_info": {
   "codemirror_mode": {
    "name": "ipython",
    "version": 3
   },
   "file_extension": ".py",
   "mimetype": "text/x-python",
   "name": "python",
   "nbconvert_exporter": "python",
   "pygments_lexer": "ipython3",
   "version": "3.11.9"
  }
 },
 "nbformat": 4,
 "nbformat_minor": 5
}
