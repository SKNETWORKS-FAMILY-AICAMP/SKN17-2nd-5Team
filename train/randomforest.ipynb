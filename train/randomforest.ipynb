{
 "cells": [
  {
   "cell_type": "markdown",
   "id": "7542dab3",
   "metadata": {},
   "source": [
    "# Random Forest 모델 테스트"
   ]
  },
  {
   "cell_type": "code",
   "execution_count": 9,
   "id": "570445e0",
   "metadata": {},
   "outputs": [],
   "source": [
    "import numpy as np\n",
    "import pandas as pd\n",
    "from sklearn.ensemble import RandomForestClassifier\n",
    "from sklearn.model_selection import GridSearchCV\n",
    "from sklearn.model_selection import RandomizedSearchCV\n",
    "from sklearn.model_selection import train_test_split\n",
    "from sklearn.metrics import classification_report, roc_auc_score"
   ]
  },
  {
   "cell_type": "markdown",
   "id": "68ae335e",
   "metadata": {},
   "source": [
    "---"
   ]
  },
  {
   "cell_type": "markdown",
   "id": "5b5acdcc",
   "metadata": {},
   "source": [
    "## SMOTENC 적용 X"
   ]
  },
  {
   "cell_type": "code",
   "execution_count": null,
   "id": "dc08c7ec",
   "metadata": {},
   "outputs": [
    {
     "name": "stdout",
     "output_type": "stream",
     "text": [
      "Fitting 5 folds for each of 100 candidates, totalling 500 fits\n",
      "Best params: {'n_estimators': 300, 'min_samples_split': 20, 'min_samples_leaf': 8, 'max_features': None, 'max_depth': 10, 'class_weight': None, 'bootstrap': True}\n",
      "Best CV F1: 0.9099169681029972\n"
     ]
    }
   ],
   "source": [
    "no_SMOTENC_yes_convert_df = pd.read_csv('./data_ml/no_SMOTENC.csv')\n",
    "\n",
    "# 데이터 분리\n",
    "X2 = no_SMOTENC_yes_convert_df.drop('is_churned', axis=1)\n",
    "y2 = no_SMOTENC_yes_convert_df['is_churned']\n",
    "\n",
    "X2_train, X2_test, y2_train, y2_test = train_test_split(X2, y2, stratify=y2, random_state=42)\n",
    "\n",
    "# 모델 생성\n",
    "rf_clf2 = RandomForestClassifier(random_state=42)\n",
    "\n",
    "params2 = {\n",
    "    'n_estimators': range(100, 601, 100),\n",
    "    'max_depth': [None, 5, 10, 15, 20, 30],\n",
    "    'min_samples_split': [2, 5, 10, 20],\n",
    "    'min_samples_leaf': [1, 2, 4, 8],\n",
    "    'max_features': ['sqrt', 'log2', None],   # 경고 시 None -> 1.0\n",
    "    'bootstrap': [True, False],\n",
    "    'class_weight': [None, 'balanced', 'balanced_subsample']\n",
    "}\n",
    "\n",
    "#grid_search1 = GridSearchCV(rf_clf1, param_grid=params1, cv=5, scoring='f1', n_jobs=-1, verbose=1,return_train_score=True)\n",
    "\n",
    "random_search2 = RandomizedSearchCV(\n",
    "    estimator=rf_clf2,\n",
    "    param_distributions=params2,\n",
    "    n_iter=100,              # 예: 100개 샘플링\n",
    "    scoring='f1',            # 필요 시 'roc_auc'도 시도\n",
    "    cv=5,\n",
    "    n_jobs=-1,\n",
    "    random_state=42,\n",
    "    verbose=1,\n",
    "    return_train_score=True\n",
    ")\n",
    "\n",
    "random_search2.fit(X2_train, y2_train)\n",
    "\n",
    "print(\"Best params:\", random_search2.best_params_)\n",
    "print(\"Best CV F1:\", random_search2.best_score_)"
   ]
  },
  {
   "cell_type": "code",
   "execution_count": 15,
   "id": "0dfb86fa",
   "metadata": {},
   "outputs": [
    {
     "name": "stdout",
     "output_type": "stream",
     "text": [
      "\n",
      "Test classification report:\n",
      "               precision    recall  f1-score   support\n",
      "\n",
      "           0       0.71      0.42      0.53       751\n",
      "           1       0.87      0.96      0.91      3109\n",
      "\n",
      "    accuracy                           0.85      3860\n",
      "   macro avg       0.79      0.69      0.72      3860\n",
      "weighted avg       0.84      0.85      0.84      3860\n",
      "\n",
      "Test ROC-AUC: 0.8544725827127033\n"
     ]
    }
   ],
   "source": [
    "# 테스트 평가\n",
    "best_rf2 = random_search2.best_estimator_\n",
    "y_pred2 = best_rf2.predict(X2_test)\n",
    "y_proba2 = best_rf2.predict_proba(X2_test)[:, 1]\n",
    "\n",
    "print(\"\\nTest classification report:\\n\", classification_report(y2_test, y_pred2))\n",
    "print(\"Test ROC-AUC:\", roc_auc_score(y2_test, y_proba2))"
   ]
  },
  {
   "cell_type": "markdown",
   "id": "ef580d18",
   "metadata": {},
   "source": [
    "---\n",
    "---"
   ]
  },
  {
   "cell_type": "markdown",
   "id": "21270c20",
   "metadata": {},
   "source": [
    "## 1-4. SMOTENC 적용 O"
   ]
  },
  {
   "cell_type": "code",
   "execution_count": null,
   "id": "ad908a8c",
   "metadata": {},
   "outputs": [
    {
     "name": "stdout",
     "output_type": "stream",
     "text": [
      "Fitting 5 folds for each of 100 candidates, totalling 500 fits\n",
      "Best params: {'n_estimators': 500, 'min_samples_split': 10, 'min_samples_leaf': 1, 'max_features': 'log2', 'max_depth': 30, 'class_weight': None, 'bootstrap': False}\n",
      "Best CV F1: 0.8595365346443499\n"
     ]
    }
   ],
   "source": [
    "yes_SMOTENC_yes_convert_df = pd.read_csv('./data_ml/yes_SMOTENC.csv')\n",
    "\n",
    "# 데이터 분리\n",
    "X4 = yes_SMOTENC_yes_convert_df.drop('is_churned', axis=1)\n",
    "y4 = yes_SMOTENC_yes_convert_df['is_churned']\n",
    "\n",
    "X4_train, X4_test, y4_train, y4_test = train_test_split(X4, y4, stratify=y4, random_state=42)\n",
    "\n",
    "# 모델 생성\n",
    "rf_clf4 = RandomForestClassifier(random_state=42)\n",
    "\n",
    "params4 = {\n",
    "    'n_estimators': range(100, 601, 100),\n",
    "    'max_depth': [None, 5, 10, 15, 20, 30],\n",
    "    'min_samples_split': [2, 5, 10, 20],\n",
    "    'min_samples_leaf': [1, 2, 4, 8],\n",
    "    'max_features': ['sqrt', 'log2', None],   # 경고 시 None -> 1.0\n",
    "    'bootstrap': [True, False],\n",
    "    'class_weight': [None, 'balanced', 'balanced_subsample']\n",
    "}\n",
    "\n",
    "\n",
    "random_search4 = RandomizedSearchCV(\n",
    "    estimator=rf_clf4,\n",
    "    param_distributions=params4,\n",
    "    n_iter=100,              # 예: 100개 샘플링\n",
    "    scoring='f1',            # 필요 시 'roc_auc'도 시도\n",
    "    cv=5,\n",
    "    n_jobs=-1,\n",
    "    random_state=42,\n",
    "    verbose=1,\n",
    "    return_train_score=True\n",
    ")\n",
    "\n",
    "random_search4.fit(X4_train, y4_train)\n",
    "\n",
    "print(\"Best params:\", random_search4.best_params_)\n",
    "print(\"Best CV F1:\", random_search4.best_score_)"
   ]
  },
  {
   "cell_type": "code",
   "execution_count": 19,
   "id": "ba9ddfa5",
   "metadata": {},
   "outputs": [
    {
     "name": "stdout",
     "output_type": "stream",
     "text": [
      "\n",
      "Test classification report:\n",
      "               precision    recall  f1-score   support\n",
      "\n",
      "           0       0.87      0.87      0.87      3109\n",
      "           1       0.87      0.87      0.87      3108\n",
      "\n",
      "    accuracy                           0.87      6217\n",
      "   macro avg       0.87      0.87      0.87      6217\n",
      "weighted avg       0.87      0.87      0.87      6217\n",
      "\n",
      "Test ROC-AUC: 0.94346368723178\n"
     ]
    }
   ],
   "source": [
    "# 테스트 평가\n",
    "best_rf4 = random_search4.best_estimator_\n",
    "y_pred4 = best_rf4.predict(X4_test)\n",
    "y_proba4 = best_rf4.predict_proba(X4_test)[:, 1]\n",
    "\n",
    "print(\"\\nTest classification report:\\n\", classification_report(y4_test, y_pred4))\n",
    "print(\"Test ROC-AUC:\", roc_auc_score(y4_test, y_proba4))"
   ]
  }
 ],
 "metadata": {
  "kernelspec": {
   "display_name": "ml_env",
   "language": "python",
   "name": "python3"
  },
  "language_info": {
   "codemirror_mode": {
    "name": "ipython",
    "version": 3
   },
   "file_extension": ".py",
   "mimetype": "text/x-python",
   "name": "python",
   "nbconvert_exporter": "python",
   "pygments_lexer": "ipython3",
   "version": "3.12.11"
  }
 },
 "nbformat": 4,
 "nbformat_minor": 5
}
