{
 "cells": [
  {
   "cell_type": "markdown",
   "id": "2443b02e",
   "metadata": {},
   "source": [
    "1. No smote, no convert"
   ]
  },
  {
   "cell_type": "code",
   "execution_count": 39,
   "id": "32b0ee7a",
   "metadata": {},
   "outputs": [],
   "source": [
    "import pandas as pd\n",
    "import numpy as np"
   ]
  },
  {
   "cell_type": "code",
   "execution_count": 40,
   "id": "055ebe72",
   "metadata": {},
   "outputs": [],
   "source": [
    "data_nsnc = pd.read_csv('data/no_SMOTE_no_convert.csv')\n",
    "data_nsyc = pd.read_csv('data/no_SMOTE_yes_convert.csv')\n",
    "data_ysnc = pd.read_csv('data/yes_SMOTENC_no_convert.csv')\n",
    "data_ysyc = pd.read_csv('data/yes_SMOTENC_yes_convert.csv')"
   ]
  },
  {
   "cell_type": "code",
   "execution_count": 41,
   "id": "cdcaf256",
   "metadata": {},
   "outputs": [],
   "source": [
    "from sklearn.metrics import classification_report\n",
    "\n",
    "def evaluate_model(model, X_test, y_test, threshold=0.5):\n",
    "    y_proba = model.predict_proba(X_test)[:, 1]\n",
    "    y_pred = (y_proba >= threshold).astype(int)\n",
    "\n",
    "    print(f\"Classification report (threshold={threshold}):\")\n",
    "    print(classification_report(y_test, y_pred))"
   ]
  },
  {
   "cell_type": "code",
   "execution_count": 42,
   "id": "4bb1e83a",
   "metadata": {},
   "outputs": [],
   "source": [
    "from sklearn.model_selection import GridSearchCV\n",
    "from sklearn.metrics import accuracy_score, precision_score, recall_score, f1_score, roc_auc_score, confusion_matrix\n",
    "from sklearn.inspection import permutation_importance\n",
    "from sklearn.tree import DecisionTreeClassifier\n",
    "from sklearn.metrics import classification_report\n",
    "from xgboost import XGBClassifier, plot_importance\n",
    "\n",
    "models = [\n",
    "\n",
    "    ('XGBoost', XGBClassifier(), {\n",
    "        'max_depth': [None, 5, 10, 20],\n",
    "        'min_samples_split': [2, 5, 10],\n",
    "        'min_samples_leaf': [1, 5, 10]\n",
    "    })\n",
    "]"
   ]
  },
  {
   "cell_type": "code",
   "execution_count": 43,
   "id": "7a437fb2",
   "metadata": {},
   "outputs": [
    {
     "name": "stdout",
     "output_type": "stream",
     "text": [
      "0.9390283400809717\n",
      "0.8581606217616581\n",
      "[[ 278  323]\n",
      " [ 115 2372]]\n",
      "              precision    recall  f1-score   support\n",
      "\n",
      "           0       0.71      0.46      0.56       601\n",
      "           1       0.88      0.95      0.92      2487\n",
      "\n",
      "    accuracy                           0.86      3088\n",
      "   macro avg       0.79      0.71      0.74      3088\n",
      "weighted avg       0.85      0.86      0.85      3088\n",
      "\n"
     ]
    }
   ],
   "source": [
    "from sklearn.model_selection import train_test_split\n",
    "from sklearn.metrics import accuracy_score, classification_report, confusion_matrix\n",
    "from xgboost import XGBClassifier\n",
    "\n",
    "\n",
    "y = data_nsnc['is_churned']\n",
    "X = data_nsnc.drop(columns=['is_churned'])\n",
    "\n",
    "from sklearn.model_selection import train_test_split\n",
    "X_train, X_test, y_train, y_test = train_test_split(\n",
    "    X, y, test_size=0.2, stratify=y, random_state=0\n",
    ")\n",
    "\n",
    "from xgboost import XGBClassifier\n",
    "xgb_clf = XGBClassifier(\n",
    "    n_estimators=300, max_depth=6, learning_rate=0.1,\n",
    "    subsample=0.8, colsample_bytree=0.8,\n",
    "    eval_metric='logloss', tree_method='hist', n_jobs=-1, random_state=0\n",
    ")\n",
    "xgb_clf.fit(X_train, y_train)\n",
    "\n",
    "\n",
    "from sklearn.metrics import precision_score, recall_score, f1_score, r2_score\n",
    "\n",
    "# 예측\n",
    "y_pred_train = xgb_clf.predict(X_train)\n",
    "y_pred_test = xgb_clf.predict(X_test)\n",
    "\n",
    "\n",
    "print(accuracy_score(y_train, y_pred_train))\n",
    "print(accuracy_score(y_test, y_pred_test))\n",
    "\n",
    "print(confusion_matrix(y_test, y_pred_test))\n",
    "print(classification_report(y_test, y_pred_test))"
   ]
  },
  {
   "cell_type": "markdown",
   "id": "21ffce4f",
   "metadata": {},
   "source": [
    "1. gridsearchcv O"
   ]
  },
  {
   "cell_type": "code",
   "execution_count": 44,
   "id": "83dd4225",
   "metadata": {},
   "outputs": [
    {
     "name": "stdout",
     "output_type": "stream",
     "text": [
      "Training XGBoost ...NSNC\n",
      "Classification report (threshold=0.3):\n",
      "              precision    recall  f1-score   support\n",
      "\n",
      "           0       0.74      0.29      0.42       601\n",
      "           1       0.85      0.98      0.91      2487\n",
      "\n",
      "    accuracy                           0.84      3088\n",
      "   macro avg       0.80      0.63      0.66      3088\n",
      "weighted avg       0.83      0.84      0.81      3088\n",
      "\n",
      "Classification report (threshold=0.5):\n",
      "              precision    recall  f1-score   support\n",
      "\n",
      "           0       0.69      0.45      0.54       601\n",
      "           1       0.88      0.95      0.91      2487\n",
      "\n",
      "    accuracy                           0.85      3088\n",
      "   macro avg       0.78      0.70      0.73      3088\n",
      "weighted avg       0.84      0.85      0.84      3088\n",
      "\n",
      "Classification report (threshold=0.7):\n",
      "              precision    recall  f1-score   support\n",
      "\n",
      "           0       0.56      0.63      0.59       601\n",
      "           1       0.91      0.88      0.89      2487\n",
      "\n",
      "    accuracy                           0.83      3088\n",
      "   macro avg       0.73      0.75      0.74      3088\n",
      "weighted avg       0.84      0.83      0.83      3088\n",
      "\n"
     ]
    },
    {
     "name": "stderr",
     "output_type": "stream",
     "text": [
      "c:\\Users\\Playdata\\anaconda3\\envs\\ml_env\\Lib\\site-packages\\xgboost\\training.py:183: UserWarning: [17:22:56] WARNING: C:\\actions-runner\\_work\\xgboost\\xgboost\\src\\learner.cc:738: \n",
      "Parameters: { \"min_samples_leaf\", \"min_samples_split\" } are not used.\n",
      "\n",
      "  bst.update(dtrain, iteration=i, fobj=obj)\n"
     ]
    }
   ],
   "source": [
    "for name, model, params in models:\n",
    "    print(f\"Training {name} ...NSNC\")\n",
    "    grid_search = GridSearchCV(model, param_grid=params, cv=5, scoring='f1', n_jobs=-1, return_train_score=True)\n",
    "    grid_search.fit(X_train, y_train)\n",
    "\n",
    "    best_model = grid_search.best_estimator_\n",
    "    \n",
    "    for thr in [0.3, 0.5, 0.7]:\n",
    "        evaluate_model(best_model, X_test, y_test, threshold=thr)"
   ]
  },
  {
   "cell_type": "markdown",
   "id": "fdc73b3f",
   "metadata": {},
   "source": [
    "-----------\n",
    "2. no smote yes convert"
   ]
  },
  {
   "cell_type": "code",
   "execution_count": 45,
   "id": "4d54d706",
   "metadata": {},
   "outputs": [
    {
     "name": "stdout",
     "output_type": "stream",
     "text": [
      "0.9446963562753037\n",
      "0.8520077720207254\n",
      "[[ 269  332]\n",
      " [ 125 2362]]\n",
      "              precision    recall  f1-score   support\n",
      "\n",
      "           0       0.68      0.45      0.54       601\n",
      "           1       0.88      0.95      0.91      2487\n",
      "\n",
      "    accuracy                           0.85      3088\n",
      "   macro avg       0.78      0.70      0.73      3088\n",
      "weighted avg       0.84      0.85      0.84      3088\n",
      "\n"
     ]
    }
   ],
   "source": [
    "y = data_nsyc['is_churned']\n",
    "X = data_nsyc.drop(columns=['is_churned'])\n",
    "\n",
    "from sklearn.model_selection import train_test_split\n",
    "X_train, X_test, y_train, y_test = train_test_split(\n",
    "    X, y, test_size=0.2, stratify=y, random_state=0\n",
    ")\n",
    "\n",
    "from xgboost import XGBClassifier\n",
    "xgb_clf = XGBClassifier(\n",
    "    n_estimators=300, max_depth=6, learning_rate=0.1,\n",
    "    subsample=0.8, colsample_bytree=0.8,\n",
    "    eval_metric='logloss', tree_method='hist', n_jobs=-1, random_state=0\n",
    ")\n",
    "xgb_clf.fit(X_train, y_train)\n",
    "\n",
    "\n",
    "from sklearn.metrics import precision_score, recall_score, f1_score, r2_score\n",
    "\n",
    "# 예측\n",
    "y_pred_train = xgb_clf.predict(X_train)\n",
    "y_pred_test = xgb_clf.predict(X_test)\n",
    "\n",
    "\n",
    "print(accuracy_score(y_train, y_pred_train))\n",
    "print(accuracy_score(y_test, y_pred_test))\n",
    "\n",
    "print(confusion_matrix(y_test, y_pred_test))\n",
    "print(classification_report(y_test, y_pred_test))"
   ]
  },
  {
   "cell_type": "markdown",
   "id": "e6cb95af",
   "metadata": {},
   "source": [
    "- GridSearchCV O"
   ]
  },
  {
   "cell_type": "code",
   "execution_count": 46,
   "id": "674600b3",
   "metadata": {},
   "outputs": [
    {
     "name": "stdout",
     "output_type": "stream",
     "text": [
      "Training XGBoost ...NSYC\n",
      "Classification report (threshold=0.3):\n",
      "              precision    recall  f1-score   support\n",
      "\n",
      "           0       0.75      0.26      0.39       601\n",
      "           1       0.85      0.98      0.91      2487\n",
      "\n",
      "    accuracy                           0.84      3088\n",
      "   macro avg       0.80      0.62      0.65      3088\n",
      "weighted avg       0.83      0.84      0.81      3088\n",
      "\n",
      "Classification report (threshold=0.5):\n",
      "              precision    recall  f1-score   support\n",
      "\n",
      "           0       0.66      0.44      0.53       601\n",
      "           1       0.88      0.95      0.91      2487\n",
      "\n",
      "    accuracy                           0.85      3088\n",
      "   macro avg       0.77      0.69      0.72      3088\n",
      "weighted avg       0.83      0.85      0.84      3088\n",
      "\n",
      "Classification report (threshold=0.7):\n",
      "              precision    recall  f1-score   support\n",
      "\n",
      "           0       0.54      0.62      0.58       601\n",
      "           1       0.90      0.87      0.89      2487\n",
      "\n",
      "    accuracy                           0.82      3088\n",
      "   macro avg       0.72      0.75      0.73      3088\n",
      "weighted avg       0.83      0.82      0.83      3088\n",
      "\n"
     ]
    },
    {
     "name": "stderr",
     "output_type": "stream",
     "text": [
      "c:\\Users\\Playdata\\anaconda3\\envs\\ml_env\\Lib\\site-packages\\xgboost\\training.py:183: UserWarning: [17:23:06] WARNING: C:\\actions-runner\\_work\\xgboost\\xgboost\\src\\learner.cc:738: \n",
      "Parameters: { \"min_samples_leaf\", \"min_samples_split\" } are not used.\n",
      "\n",
      "  bst.update(dtrain, iteration=i, fobj=obj)\n"
     ]
    }
   ],
   "source": [
    "for name, model, params in models:\n",
    "    print(f\"Training {name} ...NSYC\")\n",
    "    grid_search = GridSearchCV(model, param_grid=params, cv=5, scoring='f1', n_jobs=-1, return_train_score=True)\n",
    "    grid_search.fit(X_train, y_train)\n",
    "\n",
    "    best_model = grid_search.best_estimator_\n",
    "    \n",
    "    for thr in [0.3, 0.5, 0.7]:\n",
    "        evaluate_model(best_model, X_test, y_test, threshold=thr)"
   ]
  },
  {
   "cell_type": "markdown",
   "id": "8d9c0eef",
   "metadata": {},
   "source": [
    "-----\n",
    "3. yes_SMOTENC_no_convert"
   ]
  },
  {
   "cell_type": "code",
   "execution_count": 47,
   "id": "3f23c9a7",
   "metadata": {},
   "outputs": [
    {
     "name": "stdout",
     "output_type": "stream",
     "text": [
      "0.9269629033879562\n",
      "0.86389223964616\n",
      "[[2206  281]\n",
      " [ 396 2091]]\n",
      "              precision    recall  f1-score   support\n",
      "\n",
      "           0       0.85      0.89      0.87      2487\n",
      "           1       0.88      0.84      0.86      2487\n",
      "\n",
      "    accuracy                           0.86      4974\n",
      "   macro avg       0.86      0.86      0.86      4974\n",
      "weighted avg       0.86      0.86      0.86      4974\n",
      "\n"
     ]
    }
   ],
   "source": [
    "y = data_ysnc['is_churned']\n",
    "X = data_ysnc.drop(columns=['is_churned'])\n",
    "\n",
    "from sklearn.model_selection import train_test_split\n",
    "X_train, X_test, y_train, y_test = train_test_split(\n",
    "    X, y, test_size=0.2, stratify=y, random_state=0\n",
    ")\n",
    "\n",
    "from xgboost import XGBClassifier\n",
    "xgb_clf = XGBClassifier(\n",
    "    n_estimators=300, max_depth=6, learning_rate=0.1,\n",
    "    subsample=0.8, colsample_bytree=0.8,\n",
    "    eval_metric='logloss', tree_method='hist', n_jobs=-1, random_state=0\n",
    ")\n",
    "xgb_clf.fit(X_train, y_train)\n",
    "\n",
    "\n",
    "from sklearn.metrics import precision_score, recall_score, f1_score, r2_score\n",
    "\n",
    "# 예측\n",
    "y_pred_train = xgb_clf.predict(X_train)\n",
    "y_pred_test = xgb_clf.predict(X_test)\n",
    "\n",
    "\n",
    "print(accuracy_score(y_train, y_pred_train))\n",
    "print(accuracy_score(y_test, y_pred_test))\n",
    "\n",
    "print(confusion_matrix(y_test, y_pred_test))\n",
    "print(classification_report(y_test, y_pred_test))"
   ]
  },
  {
   "cell_type": "markdown",
   "id": "116fa2cb",
   "metadata": {},
   "source": [
    "- GridSearchCV O"
   ]
  },
  {
   "cell_type": "code",
   "execution_count": 48,
   "id": "083925b1",
   "metadata": {},
   "outputs": [
    {
     "name": "stdout",
     "output_type": "stream",
     "text": [
      "Training XGBoost ...YSNC\n"
     ]
    },
    {
     "name": "stderr",
     "output_type": "stream",
     "text": [
      "c:\\Users\\Playdata\\anaconda3\\envs\\ml_env\\Lib\\site-packages\\xgboost\\training.py:183: UserWarning: [17:23:20] WARNING: C:\\actions-runner\\_work\\xgboost\\xgboost\\src\\learner.cc:738: \n",
      "Parameters: { \"min_samples_leaf\", \"min_samples_split\" } are not used.\n",
      "\n",
      "  bst.update(dtrain, iteration=i, fobj=obj)\n"
     ]
    },
    {
     "name": "stdout",
     "output_type": "stream",
     "text": [
      "Classification report (threshold=0.3):\n",
      "              precision    recall  f1-score   support\n",
      "\n",
      "           0       0.90      0.86      0.88      2487\n",
      "           1       0.86      0.90      0.88      2487\n",
      "\n",
      "    accuracy                           0.88      4974\n",
      "   macro avg       0.88      0.88      0.88      4974\n",
      "weighted avg       0.88      0.88      0.88      4974\n",
      "\n",
      "Classification report (threshold=0.5):\n",
      "              precision    recall  f1-score   support\n",
      "\n",
      "           0       0.87      0.90      0.89      2487\n",
      "           1       0.90      0.87      0.88      2487\n",
      "\n",
      "    accuracy                           0.88      4974\n",
      "   macro avg       0.88      0.88      0.88      4974\n",
      "weighted avg       0.88      0.88      0.88      4974\n",
      "\n",
      "Classification report (threshold=0.7):\n",
      "              precision    recall  f1-score   support\n",
      "\n",
      "           0       0.84      0.93      0.88      2487\n",
      "           1       0.92      0.82      0.87      2487\n",
      "\n",
      "    accuracy                           0.88      4974\n",
      "   macro avg       0.88      0.88      0.88      4974\n",
      "weighted avg       0.88      0.88      0.88      4974\n",
      "\n"
     ]
    }
   ],
   "source": [
    "for name, model, params in models:\n",
    "    print(f\"Training {name} ...YSNC\")\n",
    "    grid_search = GridSearchCV(model, param_grid=params, cv=5, scoring='f1', n_jobs=-1, return_train_score=True)\n",
    "    grid_search.fit(X_train, y_train)\n",
    "\n",
    "    best_model = grid_search.best_estimator_\n",
    "    \n",
    "    for thr in [0.3, 0.5, 0.7]:\n",
    "        evaluate_model(best_model, X_test, y_test, threshold=thr)"
   ]
  },
  {
   "cell_type": "markdown",
   "id": "09e39731",
   "metadata": {},
   "source": [
    "------\n",
    "4. yes smotenc yes convert"
   ]
  },
  {
   "cell_type": "code",
   "execution_count": 49,
   "id": "5c2f9578",
   "metadata": {},
   "outputs": [
    {
     "name": "stdout",
     "output_type": "stream",
     "text": [
      "0.9312858148185382\n",
      "0.864897466827503\n",
      "[[2179  308]\n",
      " [ 364 2123]]\n",
      "              precision    recall  f1-score   support\n",
      "\n",
      "           0       0.86      0.88      0.87      2487\n",
      "           1       0.87      0.85      0.86      2487\n",
      "\n",
      "    accuracy                           0.86      4974\n",
      "   macro avg       0.87      0.86      0.86      4974\n",
      "weighted avg       0.87      0.86      0.86      4974\n",
      "\n"
     ]
    }
   ],
   "source": [
    "y = data_ysyc['is_churned']\n",
    "X = data_ysyc.drop(columns=['is_churned'])\n",
    "\n",
    "from sklearn.model_selection import train_test_split\n",
    "X_train, X_test, y_train, y_test = train_test_split(\n",
    "    X, y, test_size=0.2, stratify=y, random_state=0\n",
    ")\n",
    "\n",
    "from xgboost import XGBClassifier\n",
    "xgb_clf = XGBClassifier(\n",
    "    n_estimators=300, max_depth=6, learning_rate=0.1,\n",
    "    subsample=0.8, colsample_bytree=0.8,\n",
    "    eval_metric='logloss', tree_method='hist', n_jobs=-1, random_state=0\n",
    ")\n",
    "xgb_clf.fit(X_train, y_train)\n",
    "\n",
    "\n",
    "from sklearn.metrics import precision_score, recall_score, f1_score, r2_score\n",
    "\n",
    "# 예측\n",
    "y_pred_train = xgb_clf.predict(X_train)\n",
    "y_pred_test = xgb_clf.predict(X_test)\n",
    "\n",
    "\n",
    "print(accuracy_score(y_train, y_pred_train))\n",
    "print(accuracy_score(y_test, y_pred_test))\n",
    "\n",
    "print(confusion_matrix(y_test, y_pred_test))\n",
    "print(classification_report(y_test, y_pred_test))"
   ]
  },
  {
   "cell_type": "code",
   "execution_count": 50,
   "id": "1f106a8b",
   "metadata": {},
   "outputs": [
    {
     "name": "stdout",
     "output_type": "stream",
     "text": [
      "Training XGBoost ... YSYC\n"
     ]
    },
    {
     "name": "stderr",
     "output_type": "stream",
     "text": [
      "c:\\Users\\Playdata\\anaconda3\\envs\\ml_env\\Lib\\site-packages\\xgboost\\training.py:183: UserWarning: [17:23:35] WARNING: C:\\actions-runner\\_work\\xgboost\\xgboost\\src\\learner.cc:738: \n",
      "Parameters: { \"min_samples_leaf\", \"min_samples_split\" } are not used.\n",
      "\n",
      "  bst.update(dtrain, iteration=i, fobj=obj)\n"
     ]
    },
    {
     "name": "stdout",
     "output_type": "stream",
     "text": [
      "Classification report (threshold=0.3):\n",
      "              precision    recall  f1-score   support\n",
      "\n",
      "           0       0.90      0.84      0.87      2487\n",
      "           1       0.85      0.90      0.88      2487\n",
      "\n",
      "    accuracy                           0.87      4974\n",
      "   macro avg       0.87      0.87      0.87      4974\n",
      "weighted avg       0.87      0.87      0.87      4974\n",
      "\n",
      "Classification report (threshold=0.5):\n",
      "              precision    recall  f1-score   support\n",
      "\n",
      "           0       0.87      0.89      0.88      2487\n",
      "           1       0.89      0.86      0.87      2487\n",
      "\n",
      "    accuracy                           0.88      4974\n",
      "   macro avg       0.88      0.88      0.88      4974\n",
      "weighted avg       0.88      0.88      0.88      4974\n",
      "\n",
      "Classification report (threshold=0.7):\n",
      "              precision    recall  f1-score   support\n",
      "\n",
      "           0       0.83      0.92      0.87      2487\n",
      "           1       0.91      0.81      0.86      2487\n",
      "\n",
      "    accuracy                           0.87      4974\n",
      "   macro avg       0.87      0.87      0.87      4974\n",
      "weighted avg       0.87      0.87      0.87      4974\n",
      "\n",
      "0.9312858148185382\n",
      "0.864897466827503\n"
     ]
    }
   ],
   "source": [
    "for name, model, params in models:\n",
    "    print(f\"Training {name} ... YSYC\")\n",
    "    grid_search = GridSearchCV(model, param_grid=params, cv=5, scoring='f1', n_jobs=-1, return_train_score=True)\n",
    "    grid_search.fit(X_train, y_train)\n",
    "\n",
    "    best_model = grid_search.best_estimator_\n",
    "    \n",
    "    for thr in [0.3, 0.5, 0.7]:\n",
    "        evaluate_model(best_model, X_test, y_test, threshold=thr)\n",
    "print(accuracy_score(y_train, y_pred_train))\n",
    "print(accuracy_score(y_test, y_pred_test))"
   ]
  }
 ],
 "metadata": {
  "kernelspec": {
   "display_name": "ml_env",
   "language": "python",
   "name": "python3"
  },
  "language_info": {
   "codemirror_mode": {
    "name": "ipython",
    "version": 3
   },
   "file_extension": ".py",
   "mimetype": "text/x-python",
   "name": "python",
   "nbconvert_exporter": "python",
   "pygments_lexer": "ipython3",
   "version": "3.12.11"
  }
 },
 "nbformat": 4,
 "nbformat_minor": 5
}
